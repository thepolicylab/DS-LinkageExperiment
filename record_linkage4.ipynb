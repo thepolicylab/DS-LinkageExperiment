{
  "nbformat": 4,
  "nbformat_minor": 0,
  "metadata": {
    "colab": {
      "name": "record_linkage4.ipynb",
      "provenance": [],
      "collapsed_sections": []
    },
    "kernelspec": {
      "name": "python3",
      "display_name": "Python 3"
    },
    "language_info": {
      "name": "python"
    },
    "widgets": {
      "application/vnd.jupyter.widget-state+json": {
        "ea49288f3c67448aad6b1a70288e48fb": {
          "model_module": "@jupyter-widgets/controls",
          "model_name": "HBoxModel",
          "state": {
            "_view_name": "HBoxView",
            "_dom_classes": [],
            "_model_name": "HBoxModel",
            "_view_module": "@jupyter-widgets/controls",
            "_model_module_version": "1.5.0",
            "_view_count": null,
            "_view_module_version": "1.5.0",
            "box_style": "",
            "layout": "IPY_MODEL_1b47733d0810460bb86a225ffdddb87c",
            "_model_module": "@jupyter-widgets/controls",
            "children": [
              "IPY_MODEL_39ee8aa2fb2846c4a2571fc0b6de3af8",
              "IPY_MODEL_7c1cc900864d40db8cf5cedc4a7119ba"
            ]
          }
        },
        "1b47733d0810460bb86a225ffdddb87c": {
          "model_module": "@jupyter-widgets/base",
          "model_name": "LayoutModel",
          "state": {
            "_view_name": "LayoutView",
            "grid_template_rows": null,
            "right": null,
            "justify_content": null,
            "_view_module": "@jupyter-widgets/base",
            "overflow": null,
            "_model_module_version": "1.2.0",
            "_view_count": null,
            "flex_flow": null,
            "width": null,
            "min_width": null,
            "border": null,
            "align_items": null,
            "bottom": null,
            "_model_module": "@jupyter-widgets/base",
            "top": null,
            "grid_column": null,
            "overflow_y": null,
            "overflow_x": null,
            "grid_auto_flow": null,
            "grid_area": null,
            "grid_template_columns": null,
            "flex": null,
            "_model_name": "LayoutModel",
            "justify_items": null,
            "grid_row": null,
            "max_height": null,
            "align_content": null,
            "visibility": null,
            "align_self": null,
            "height": null,
            "min_height": null,
            "padding": null,
            "grid_auto_rows": null,
            "grid_gap": null,
            "max_width": null,
            "order": null,
            "_view_module_version": "1.2.0",
            "grid_template_areas": null,
            "object_position": null,
            "object_fit": null,
            "grid_auto_columns": null,
            "margin": null,
            "display": null,
            "left": null
          }
        },
        "39ee8aa2fb2846c4a2571fc0b6de3af8": {
          "model_module": "@jupyter-widgets/controls",
          "model_name": "FloatProgressModel",
          "state": {
            "_view_name": "ProgressView",
            "style": "IPY_MODEL_f6640a87b22e4b2f8f08d5c0e5451251",
            "_dom_classes": [],
            "description": "",
            "_model_name": "FloatProgressModel",
            "bar_style": "danger",
            "max": 1,
            "_view_module": "@jupyter-widgets/controls",
            "_model_module_version": "1.5.0",
            "value": 1,
            "_view_count": null,
            "_view_module_version": "1.5.0",
            "orientation": "horizontal",
            "min": 0,
            "description_tooltip": null,
            "_model_module": "@jupyter-widgets/controls",
            "layout": "IPY_MODEL_59f0efce93e84a04b1580145f4fd9123"
          }
        },
        "7c1cc900864d40db8cf5cedc4a7119ba": {
          "model_module": "@jupyter-widgets/controls",
          "model_name": "HTMLModel",
          "state": {
            "_view_name": "HTMLView",
            "style": "IPY_MODEL_fa5aceb12fc54a129c1426b51cf7a232",
            "_dom_classes": [],
            "description": "",
            "_model_name": "HTMLModel",
            "placeholder": "​",
            "_view_module": "@jupyter-widgets/controls",
            "_model_module_version": "1.5.0",
            "value": " 100/? [05:28&lt;00:00,  3.82s/it]",
            "_view_count": null,
            "_view_module_version": "1.5.0",
            "description_tooltip": null,
            "_model_module": "@jupyter-widgets/controls",
            "layout": "IPY_MODEL_dc6d149fb4d44522a98019d6646d7eb1"
          }
        },
        "f6640a87b22e4b2f8f08d5c0e5451251": {
          "model_module": "@jupyter-widgets/controls",
          "model_name": "ProgressStyleModel",
          "state": {
            "_view_name": "StyleView",
            "_model_name": "ProgressStyleModel",
            "description_width": "initial",
            "_view_module": "@jupyter-widgets/base",
            "_model_module_version": "1.5.0",
            "_view_count": null,
            "_view_module_version": "1.2.0",
            "bar_color": null,
            "_model_module": "@jupyter-widgets/controls"
          }
        },
        "59f0efce93e84a04b1580145f4fd9123": {
          "model_module": "@jupyter-widgets/base",
          "model_name": "LayoutModel",
          "state": {
            "_view_name": "LayoutView",
            "grid_template_rows": null,
            "right": null,
            "justify_content": null,
            "_view_module": "@jupyter-widgets/base",
            "overflow": null,
            "_model_module_version": "1.2.0",
            "_view_count": null,
            "flex_flow": null,
            "width": null,
            "min_width": null,
            "border": null,
            "align_items": null,
            "bottom": null,
            "_model_module": "@jupyter-widgets/base",
            "top": null,
            "grid_column": null,
            "overflow_y": null,
            "overflow_x": null,
            "grid_auto_flow": null,
            "grid_area": null,
            "grid_template_columns": null,
            "flex": null,
            "_model_name": "LayoutModel",
            "justify_items": null,
            "grid_row": null,
            "max_height": null,
            "align_content": null,
            "visibility": null,
            "align_self": null,
            "height": null,
            "min_height": null,
            "padding": null,
            "grid_auto_rows": null,
            "grid_gap": null,
            "max_width": null,
            "order": null,
            "_view_module_version": "1.2.0",
            "grid_template_areas": null,
            "object_position": null,
            "object_fit": null,
            "grid_auto_columns": null,
            "margin": null,
            "display": null,
            "left": null
          }
        },
        "fa5aceb12fc54a129c1426b51cf7a232": {
          "model_module": "@jupyter-widgets/controls",
          "model_name": "DescriptionStyleModel",
          "state": {
            "_view_name": "StyleView",
            "_model_name": "DescriptionStyleModel",
            "description_width": "",
            "_view_module": "@jupyter-widgets/base",
            "_model_module_version": "1.5.0",
            "_view_count": null,
            "_view_module_version": "1.2.0",
            "_model_module": "@jupyter-widgets/controls"
          }
        },
        "dc6d149fb4d44522a98019d6646d7eb1": {
          "model_module": "@jupyter-widgets/base",
          "model_name": "LayoutModel",
          "state": {
            "_view_name": "LayoutView",
            "grid_template_rows": null,
            "right": null,
            "justify_content": null,
            "_view_module": "@jupyter-widgets/base",
            "overflow": null,
            "_model_module_version": "1.2.0",
            "_view_count": null,
            "flex_flow": null,
            "width": null,
            "min_width": null,
            "border": null,
            "align_items": null,
            "bottom": null,
            "_model_module": "@jupyter-widgets/base",
            "top": null,
            "grid_column": null,
            "overflow_y": null,
            "overflow_x": null,
            "grid_auto_flow": null,
            "grid_area": null,
            "grid_template_columns": null,
            "flex": null,
            "_model_name": "LayoutModel",
            "justify_items": null,
            "grid_row": null,
            "max_height": null,
            "align_content": null,
            "visibility": null,
            "align_self": null,
            "height": null,
            "min_height": null,
            "padding": null,
            "grid_auto_rows": null,
            "grid_gap": null,
            "max_width": null,
            "order": null,
            "_view_module_version": "1.2.0",
            "grid_template_areas": null,
            "object_position": null,
            "object_fit": null,
            "grid_auto_columns": null,
            "margin": null,
            "display": null,
            "left": null
          }
        },
        "04dd7594f3b94ceca702b7de5367a47a": {
          "model_module": "@jupyter-widgets/controls",
          "model_name": "HBoxModel",
          "state": {
            "_view_name": "HBoxView",
            "_dom_classes": [],
            "_model_name": "HBoxModel",
            "_view_module": "@jupyter-widgets/controls",
            "_model_module_version": "1.5.0",
            "_view_count": null,
            "_view_module_version": "1.5.0",
            "box_style": "",
            "layout": "IPY_MODEL_6a22ecfa8b064f09b82db2802a2798c3",
            "_model_module": "@jupyter-widgets/controls",
            "children": [
              "IPY_MODEL_70d8278d549d4c37aac878dd8ea408aa",
              "IPY_MODEL_53a8fd69ef1b443093d378d6bd42d584"
            ]
          }
        },
        "6a22ecfa8b064f09b82db2802a2798c3": {
          "model_module": "@jupyter-widgets/base",
          "model_name": "LayoutModel",
          "state": {
            "_view_name": "LayoutView",
            "grid_template_rows": null,
            "right": null,
            "justify_content": null,
            "_view_module": "@jupyter-widgets/base",
            "overflow": null,
            "_model_module_version": "1.2.0",
            "_view_count": null,
            "flex_flow": null,
            "width": null,
            "min_width": null,
            "border": null,
            "align_items": null,
            "bottom": null,
            "_model_module": "@jupyter-widgets/base",
            "top": null,
            "grid_column": null,
            "overflow_y": null,
            "overflow_x": null,
            "grid_auto_flow": null,
            "grid_area": null,
            "grid_template_columns": null,
            "flex": null,
            "_model_name": "LayoutModel",
            "justify_items": null,
            "grid_row": null,
            "max_height": null,
            "align_content": null,
            "visibility": null,
            "align_self": null,
            "height": null,
            "min_height": null,
            "padding": null,
            "grid_auto_rows": null,
            "grid_gap": null,
            "max_width": null,
            "order": null,
            "_view_module_version": "1.2.0",
            "grid_template_areas": null,
            "object_position": null,
            "object_fit": null,
            "grid_auto_columns": null,
            "margin": null,
            "display": null,
            "left": null
          }
        },
        "70d8278d549d4c37aac878dd8ea408aa": {
          "model_module": "@jupyter-widgets/controls",
          "model_name": "FloatProgressModel",
          "state": {
            "_view_name": "ProgressView",
            "style": "IPY_MODEL_be4832ba5ade42ecb9b2a583b94650ce",
            "_dom_classes": [],
            "description": "",
            "_model_name": "FloatProgressModel",
            "bar_style": "success",
            "max": 1,
            "_view_module": "@jupyter-widgets/controls",
            "_model_module_version": "1.5.0",
            "value": 1,
            "_view_count": null,
            "_view_module_version": "1.5.0",
            "orientation": "horizontal",
            "min": 0,
            "description_tooltip": null,
            "_model_module": "@jupyter-widgets/controls",
            "layout": "IPY_MODEL_8321605d2a8b486ba1a262c0f6d47cd6"
          }
        },
        "53a8fd69ef1b443093d378d6bd42d584": {
          "model_module": "@jupyter-widgets/controls",
          "model_name": "HTMLModel",
          "state": {
            "_view_name": "HTMLView",
            "style": "IPY_MODEL_9fe984bc78324ad5bcc1b527a8d50ff0",
            "_dom_classes": [],
            "description": "",
            "_model_name": "HTMLModel",
            "placeholder": "​",
            "_view_module": "@jupyter-widgets/controls",
            "_model_module_version": "1.5.0",
            "value": " 100/? [00:16&lt;00:00,  6.10it/s]",
            "_view_count": null,
            "_view_module_version": "1.5.0",
            "description_tooltip": null,
            "_model_module": "@jupyter-widgets/controls",
            "layout": "IPY_MODEL_7b27ab2efba0430886281fad32bec466"
          }
        },
        "be4832ba5ade42ecb9b2a583b94650ce": {
          "model_module": "@jupyter-widgets/controls",
          "model_name": "ProgressStyleModel",
          "state": {
            "_view_name": "StyleView",
            "_model_name": "ProgressStyleModel",
            "description_width": "initial",
            "_view_module": "@jupyter-widgets/base",
            "_model_module_version": "1.5.0",
            "_view_count": null,
            "_view_module_version": "1.2.0",
            "bar_color": null,
            "_model_module": "@jupyter-widgets/controls"
          }
        },
        "8321605d2a8b486ba1a262c0f6d47cd6": {
          "model_module": "@jupyter-widgets/base",
          "model_name": "LayoutModel",
          "state": {
            "_view_name": "LayoutView",
            "grid_template_rows": null,
            "right": null,
            "justify_content": null,
            "_view_module": "@jupyter-widgets/base",
            "overflow": null,
            "_model_module_version": "1.2.0",
            "_view_count": null,
            "flex_flow": null,
            "width": null,
            "min_width": null,
            "border": null,
            "align_items": null,
            "bottom": null,
            "_model_module": "@jupyter-widgets/base",
            "top": null,
            "grid_column": null,
            "overflow_y": null,
            "overflow_x": null,
            "grid_auto_flow": null,
            "grid_area": null,
            "grid_template_columns": null,
            "flex": null,
            "_model_name": "LayoutModel",
            "justify_items": null,
            "grid_row": null,
            "max_height": null,
            "align_content": null,
            "visibility": null,
            "align_self": null,
            "height": null,
            "min_height": null,
            "padding": null,
            "grid_auto_rows": null,
            "grid_gap": null,
            "max_width": null,
            "order": null,
            "_view_module_version": "1.2.0",
            "grid_template_areas": null,
            "object_position": null,
            "object_fit": null,
            "grid_auto_columns": null,
            "margin": null,
            "display": null,
            "left": null
          }
        },
        "9fe984bc78324ad5bcc1b527a8d50ff0": {
          "model_module": "@jupyter-widgets/controls",
          "model_name": "DescriptionStyleModel",
          "state": {
            "_view_name": "StyleView",
            "_model_name": "DescriptionStyleModel",
            "description_width": "",
            "_view_module": "@jupyter-widgets/base",
            "_model_module_version": "1.5.0",
            "_view_count": null,
            "_view_module_version": "1.2.0",
            "_model_module": "@jupyter-widgets/controls"
          }
        },
        "7b27ab2efba0430886281fad32bec466": {
          "model_module": "@jupyter-widgets/base",
          "model_name": "LayoutModel",
          "state": {
            "_view_name": "LayoutView",
            "grid_template_rows": null,
            "right": null,
            "justify_content": null,
            "_view_module": "@jupyter-widgets/base",
            "overflow": null,
            "_model_module_version": "1.2.0",
            "_view_count": null,
            "flex_flow": null,
            "width": null,
            "min_width": null,
            "border": null,
            "align_items": null,
            "bottom": null,
            "_model_module": "@jupyter-widgets/base",
            "top": null,
            "grid_column": null,
            "overflow_y": null,
            "overflow_x": null,
            "grid_auto_flow": null,
            "grid_area": null,
            "grid_template_columns": null,
            "flex": null,
            "_model_name": "LayoutModel",
            "justify_items": null,
            "grid_row": null,
            "max_height": null,
            "align_content": null,
            "visibility": null,
            "align_self": null,
            "height": null,
            "min_height": null,
            "padding": null,
            "grid_auto_rows": null,
            "grid_gap": null,
            "max_width": null,
            "order": null,
            "_view_module_version": "1.2.0",
            "grid_template_areas": null,
            "object_position": null,
            "object_fit": null,
            "grid_auto_columns": null,
            "margin": null,
            "display": null,
            "left": null
          }
        }
      }
    }
  },
  "cells": [
    {
      "cell_type": "code",
      "metadata": {
        "id": "HegpWatJVEc8"
      },
      "source": [
        "# !pip install recordlinkage\n",
        "# !pip install unidecode"
      ],
      "execution_count": 2,
      "outputs": []
    },
    {
      "cell_type": "code",
      "metadata": {
        "id": "f5DPU7h1VObl"
      },
      "source": [
        "import recordlinkage\n",
        "import recordlinkage.datasets as rl_data\n",
        "from sklearn.linear_model import LogisticRegression\n",
        "from sklearn.ensemble import RandomForestClassifier as RFC\n",
        "from sklearn.metrics import accuracy_score, precision_score, recall_score\n",
        "from collections import defaultdict\n",
        "import pandas as pd\n",
        "import numpy as np\n",
        "import random\n",
        "import string\n",
        "from unidecode import unidecode\n",
        "from ensemble import ActiveLearner, Ensemble"
      ],
      "execution_count": 3,
      "outputs": []
    },
    {
      "cell_type": "code",
      "metadata": {
        "id": "6UY9QuRpVarq"
      },
      "source": [
        "data = rl_data.load_febrl4(return_links=True)\n",
        "df_org, df_dup, df_links = data[0], data[1], data[2]"
      ],
      "execution_count": 4,
      "outputs": []
    },
    {
      "cell_type": "code",
      "metadata": {
        "id": "fRpG2zTeVmGr"
      },
      "source": [
        "# create dict of true links\n",
        "def def_value():\n",
        "    return \"Not Present\"\n",
        "      \n",
        "links = defaultdict(def_value)\n",
        "\n",
        "for org, dup in df_links:\n",
        "  links[org] = dup"
      ],
      "execution_count": 5,
      "outputs": []
    },
    {
      "cell_type": "code",
      "metadata": {
        "id": "s5tjCxFXWJFp"
      },
      "source": [
        "# import name datasets to create dataset\n",
        "# replace unknown frequencies ('..') with the min (100)\n",
        "url = 'https://raw.githubusercontent.com/jvalhondo/spanish-names-surnames/master/'\n",
        "female_df = pd.read_csv(url + 'female_names.csv')\n",
        "male_df = pd.read_csv(url + 'male_names.csv')\n",
        "surname_df = pd.read_csv(url +'surnames_freq_ge_100.csv' ).replace('..', 100)"
      ],
      "execution_count": 6,
      "outputs": []
    },
    {
      "cell_type": "code",
      "metadata": {
        "id": "MF6L3nO6Wdxt"
      },
      "source": [
        "# assuming 50/50 male/female split - sample from first and surnames based on frequency\n",
        "first_f = female_df.sample(n=df_org.shape[0]//2, weights='frequency', \n",
        "                           random_state=1)['name'].reset_index(drop=True)\n",
        "first_m = male_df.sample(n=df_org.shape[0]-first_f.shape[0], \n",
        "                         weights='frequency', random_state=1)['name'].reset_index(drop=True)\n",
        "first_org = first_f.append(first_m).reset_index(drop=True)\n",
        "sur_f = surname_df.sample(n=df_org.shape[0], weights='frequency_first', \n",
        "                          random_state=1)['surname'].reset_index(drop=True)\n",
        "sur_l = surname_df.sample(n=df_org.shape[0], weights='frequency_second', \n",
        "                          random_state=2)['surname'].reset_index(drop=True)\n",
        "surname_org = sur_f + ' ' + sur_l"
      ],
      "execution_count": 7,
      "outputs": []
    },
    {
      "cell_type": "code",
      "metadata": {
        "id": "5Cyn1VdjYKEs"
      },
      "source": [
        "# add new names to df\n",
        "df_org = df_org.sort_index()\n",
        "df_dup = df_dup.sort_index()\n",
        "df_org['given_name'] = list(first_org)\n",
        "df_org['surname'] = list(surname_org)\n",
        "df_dup['given_name'] = list(first_org)\n",
        "df_dup['surname'] = list(surname_org)"
      ],
      "execution_count": 8,
      "outputs": []
    },
    {
      "cell_type": "code",
      "metadata": {
        "id": "cY_Ib2FqW4ib"
      },
      "source": [
        "# create function to add noise\n",
        "def add_noise(word, switch, flip):\n",
        "  '''function to add noise to names - replace n letters w/ \n",
        "  prob switch^n and flip order if 2 names, w/prob flip'''\n",
        "  if word != word:\n",
        "    return word\n",
        "  while True:\n",
        "    if np.random.rand() > switch:\n",
        "        break\n",
        "    if word.isnumeric():\n",
        "      new_char = str(np.random.randint(10))\n",
        "    else:\n",
        "      new_char = random.choice(string.ascii_lowercase)\n",
        "    word = word.replace(word[np.random.randint(len(word))], new_char, 1)\n",
        "\n",
        "  if ' ' in word and np.random.rand() < flip:\n",
        "    word = word.split(' ')\n",
        "    word = word[1] +' ' + word[0]\n",
        "  return word"
      ],
      "execution_count": 9,
      "outputs": []
    },
    {
      "cell_type": "code",
      "metadata": {
        "id": "usn2n0nsXRI7"
      },
      "source": [
        "# add noise\n",
        "# parameters in add_noise function can be adjusted to \n",
        "# customize the amount of noise \n",
        "for col in df_dup.columns:\n",
        "  if col == 'postcode':\n",
        "    continue\n",
        "  df_dup[col] = df_dup[col].apply(lambda word: add_noise(word, .70, .70)) "
      ],
      "execution_count": 10,
      "outputs": []
    },
    {
      "cell_type": "code",
      "metadata": {
        "id": "A22XqFpkYcIK"
      },
      "source": [
        "# cleaning\n",
        "df_org['given_name'] = df_org['given_name'].apply(lambda name: unidecode(name).lower())\n",
        "df_org['surname'] = df_org['surname'].apply(lambda name: unidecode(name).lower())\n",
        "df_dup['given_name'] = df_dup['given_name'].apply(lambda name: unidecode(name).lower())\n",
        "df_dup['surname'] = df_dup['surname'].apply(lambda name: unidecode(name).lower())"
      ],
      "execution_count": 11,
      "outputs": []
    },
    {
      "cell_type": "code",
      "metadata": {
        "colab": {
          "base_uri": "https://localhost:8080/",
          "height": 234
        },
        "id": "83DyrhBOYsy4",
        "outputId": "ea04f803-b76b-4c53-bd4d-b328238d36dc"
      },
      "source": [
        "# compare dfs to examine amount of noise\n",
        "df_org.head(5)"
      ],
      "execution_count": 12,
      "outputs": [
        {
          "output_type": "execute_result",
          "data": {
            "text/html": [
              "<div>\n",
              "<style scoped>\n",
              "    .dataframe tbody tr th:only-of-type {\n",
              "        vertical-align: middle;\n",
              "    }\n",
              "\n",
              "    .dataframe tbody tr th {\n",
              "        vertical-align: top;\n",
              "    }\n",
              "\n",
              "    .dataframe thead th {\n",
              "        text-align: right;\n",
              "    }\n",
              "</style>\n",
              "<table border=\"1\" class=\"dataframe\">\n",
              "  <thead>\n",
              "    <tr style=\"text-align: right;\">\n",
              "      <th></th>\n",
              "      <th>given_name</th>\n",
              "      <th>surname</th>\n",
              "      <th>street_number</th>\n",
              "      <th>address_1</th>\n",
              "      <th>address_2</th>\n",
              "      <th>suburb</th>\n",
              "      <th>postcode</th>\n",
              "      <th>state</th>\n",
              "      <th>date_of_birth</th>\n",
              "      <th>soc_sec_id</th>\n",
              "    </tr>\n",
              "    <tr>\n",
              "      <th>rec_id</th>\n",
              "      <th></th>\n",
              "      <th></th>\n",
              "      <th></th>\n",
              "      <th></th>\n",
              "      <th></th>\n",
              "      <th></th>\n",
              "      <th></th>\n",
              "      <th></th>\n",
              "      <th></th>\n",
              "      <th></th>\n",
              "    </tr>\n",
              "  </thead>\n",
              "  <tbody>\n",
              "    <tr>\n",
              "      <th>rec-0-org</th>\n",
              "      <td>rocio</td>\n",
              "      <td>pardo merino</td>\n",
              "      <td>1</td>\n",
              "      <td>knox street</td>\n",
              "      <td>lakewood estate</td>\n",
              "      <td>byford</td>\n",
              "      <td>4129</td>\n",
              "      <td>vic</td>\n",
              "      <td>19280722</td>\n",
              "      <td>1683994</td>\n",
              "    </tr>\n",
              "    <tr>\n",
              "      <th>rec-1-org</th>\n",
              "      <td>alexandra</td>\n",
              "      <td>teran garcia</td>\n",
              "      <td>25</td>\n",
              "      <td>pike place</td>\n",
              "      <td>rowethorpe</td>\n",
              "      <td>marsden</td>\n",
              "      <td>2152</td>\n",
              "      <td>nsw</td>\n",
              "      <td>19110816</td>\n",
              "      <td>6653129</td>\n",
              "    </tr>\n",
              "    <tr>\n",
              "      <th>rec-10-org</th>\n",
              "      <td>maria carmen</td>\n",
              "      <td>garcia burgos</td>\n",
              "      <td>5</td>\n",
              "      <td>carrington road</td>\n",
              "      <td>legacy vlge</td>\n",
              "      <td>yagoona</td>\n",
              "      <td>2464</td>\n",
              "      <td>nsw</td>\n",
              "      <td>19500531</td>\n",
              "      <td>3232033</td>\n",
              "    </tr>\n",
              "    <tr>\n",
              "      <th>rec-100-org</th>\n",
              "      <td>concepcion</td>\n",
              "      <td>molina pardo</td>\n",
              "      <td>38</td>\n",
              "      <td>tindale street</td>\n",
              "      <td>villa 2</td>\n",
              "      <td>cromer heights</td>\n",
              "      <td>4125</td>\n",
              "      <td>vic</td>\n",
              "      <td>NaN</td>\n",
              "      <td>4620080</td>\n",
              "    </tr>\n",
              "    <tr>\n",
              "      <th>rec-1000-org</th>\n",
              "      <td>maria teresa</td>\n",
              "      <td>sanchez crespo</td>\n",
              "      <td>70</td>\n",
              "      <td>wybalena grove</td>\n",
              "      <td>inverneath</td>\n",
              "      <td>paralowie</td>\n",
              "      <td>5065</td>\n",
              "      <td>nsw</td>\n",
              "      <td>19720503</td>\n",
              "      <td>1267612</td>\n",
              "    </tr>\n",
              "  </tbody>\n",
              "</table>\n",
              "</div>"
            ],
            "text/plain": [
              "                given_name         surname  ... date_of_birth soc_sec_id\n",
              "rec_id                                      ...                         \n",
              "rec-0-org            rocio    pardo merino  ...      19280722    1683994\n",
              "rec-1-org        alexandra    teran garcia  ...      19110816    6653129\n",
              "rec-10-org    maria carmen   garcia burgos  ...      19500531    3232033\n",
              "rec-100-org     concepcion    molina pardo  ...           NaN    4620080\n",
              "rec-1000-org  maria teresa  sanchez crespo  ...      19720503    1267612\n",
              "\n",
              "[5 rows x 10 columns]"
            ]
          },
          "metadata": {
            "tags": []
          },
          "execution_count": 12
        }
      ]
    },
    {
      "cell_type": "code",
      "metadata": {
        "colab": {
          "base_uri": "https://localhost:8080/",
          "height": 234
        },
        "id": "pfcA8bE2Y8o-",
        "outputId": "8c8b5dcb-626f-4888-de44-4dcffd2a8352"
      },
      "source": [
        "df_dup.head(5)"
      ],
      "execution_count": 13,
      "outputs": [
        {
          "output_type": "execute_result",
          "data": {
            "text/html": [
              "<div>\n",
              "<style scoped>\n",
              "    .dataframe tbody tr th:only-of-type {\n",
              "        vertical-align: middle;\n",
              "    }\n",
              "\n",
              "    .dataframe tbody tr th {\n",
              "        vertical-align: top;\n",
              "    }\n",
              "\n",
              "    .dataframe thead th {\n",
              "        text-align: right;\n",
              "    }\n",
              "</style>\n",
              "<table border=\"1\" class=\"dataframe\">\n",
              "  <thead>\n",
              "    <tr style=\"text-align: right;\">\n",
              "      <th></th>\n",
              "      <th>given_name</th>\n",
              "      <th>surname</th>\n",
              "      <th>street_number</th>\n",
              "      <th>address_1</th>\n",
              "      <th>address_2</th>\n",
              "      <th>suburb</th>\n",
              "      <th>postcode</th>\n",
              "      <th>state</th>\n",
              "      <th>date_of_birth</th>\n",
              "      <th>soc_sec_id</th>\n",
              "    </tr>\n",
              "    <tr>\n",
              "      <th>rec_id</th>\n",
              "      <th></th>\n",
              "      <th></th>\n",
              "      <th></th>\n",
              "      <th></th>\n",
              "      <th></th>\n",
              "      <th></th>\n",
              "      <th></th>\n",
              "      <th></th>\n",
              "      <th></th>\n",
              "      <th></th>\n",
              "    </tr>\n",
              "  </thead>\n",
              "  <tbody>\n",
              "    <tr>\n",
              "      <th>rec-0-dup-0</th>\n",
              "      <td>rjaso</td>\n",
              "      <td>lerqno pardd</td>\n",
              "      <td>4</td>\n",
              "      <td>street knox</td>\n",
              "      <td>lakdwood estate</td>\n",
              "      <td>syfojd</td>\n",
              "      <td>4129</td>\n",
              "      <td>vip</td>\n",
              "      <td>19280722</td>\n",
              "      <td>1682994</td>\n",
              "    </tr>\n",
              "    <tr>\n",
              "      <th>rec-1-dup-0</th>\n",
              "      <td>aloxandra</td>\n",
              "      <td>teraz garcia</td>\n",
              "      <td>04</td>\n",
              "      <td>tlace pike</td>\n",
              "      <td>ryuuthorek</td>\n",
              "      <td>maxsden</td>\n",
              "      <td>2152</td>\n",
              "      <td>ilw</td>\n",
              "      <td>19112816</td>\n",
              "      <td>6628109</td>\n",
              "    </tr>\n",
              "    <tr>\n",
              "      <th>rec-10-dup-0</th>\n",
              "      <td>carmen maria</td>\n",
              "      <td>garcia burgos</td>\n",
              "      <td>3</td>\n",
              "      <td>road carrington</td>\n",
              "      <td>vlge lppacy</td>\n",
              "      <td>yagbona</td>\n",
              "      <td>2446</td>\n",
              "      <td>rsh</td>\n",
              "      <td>19680531</td>\n",
              "      <td>9232033</td>\n",
              "    </tr>\n",
              "    <tr>\n",
              "      <th>rec-100-dup-0</th>\n",
              "      <td>iegcracion</td>\n",
              "      <td>zolifa tardo</td>\n",
              "      <td>NaN</td>\n",
              "      <td>street tindale</td>\n",
              "      <td>viyoae2</td>\n",
              "      <td>cqoher xeights</td>\n",
              "      <td>4125</td>\n",
              "      <td>viy</td>\n",
              "      <td>NaN</td>\n",
              "      <td>7370020</td>\n",
              "    </tr>\n",
              "    <tr>\n",
              "      <th>rec-1000-dup-0</th>\n",
              "      <td>maria teresa</td>\n",
              "      <td>crespo sandhez</td>\n",
              "      <td>53</td>\n",
              "      <td>wyvalena erove</td>\n",
              "      <td>ifverbeaph</td>\n",
              "      <td>paralowie</td>\n",
              "      <td>5065</td>\n",
              "      <td>nsw</td>\n",
              "      <td>19723503</td>\n",
              "      <td>1267612</td>\n",
              "    </tr>\n",
              "  </tbody>\n",
              "</table>\n",
              "</div>"
            ],
            "text/plain": [
              "                  given_name         surname  ... date_of_birth soc_sec_id\n",
              "rec_id                                        ...                         \n",
              "rec-0-dup-0            rjaso    lerqno pardd  ...      19280722    1682994\n",
              "rec-1-dup-0        aloxandra    teraz garcia  ...      19112816    6628109\n",
              "rec-10-dup-0    carmen maria   garcia burgos  ...      19680531    9232033\n",
              "rec-100-dup-0     iegcracion    zolifa tardo  ...           NaN    7370020\n",
              "rec-1000-dup-0  maria teresa  crespo sandhez  ...      19723503    1267612\n",
              "\n",
              "[5 rows x 10 columns]"
            ]
          },
          "metadata": {
            "tags": []
          },
          "execution_count": 13
        }
      ]
    },
    {
      "cell_type": "code",
      "metadata": {
        "id": "9J1ff8zAY_ny"
      },
      "source": [
        "# create indices to compare and set blocking variable\n",
        "indexer = recordlinkage.Index()\n",
        "indexer.block(left_on='postcode', right_on='postcode')\n",
        "candidate_pairs = indexer.index(df_org, df_dup)"
      ],
      "execution_count": 14,
      "outputs": []
    },
    {
      "cell_type": "code",
      "metadata": {
        "id": "AMnx8-ClZYzB"
      },
      "source": [
        "# compute similarity df using only jarowinkler\n",
        "# initialise class\n",
        "comp = recordlinkage.Compare()\n",
        "\n",
        "# initialise similarity measurement algorithms\n",
        "comp.string('given_name', 'given_name', method='jarowinkler')\n",
        "comp.string('surname', 'surname', method='jarowinkler')\n",
        "comp.exact('street_number', 'street_number')\n",
        "comp.string('address_1', 'address_1', method='jarowinkler')\n",
        "comp.string('address_2', 'address_2', method='jarowinkler')\n",
        "comp.string('suburb', 'suburb', method='jarowinkler')\n",
        "comp.string('postcode', 'postcode', method='jarowinkler')\n",
        "comp.string('state', 'state', method='jarowinkler')\n",
        "comp.string('date_of_birth', 'date_of_birth', method='jarowinkler')\n",
        "comp.string('soc_sec_id', 'soc_sec_id', method='jarowinkler')\n",
        "\n",
        "# the method .compute() returns the DataFrame with the feature vectors\n",
        "df_compare = comp.compute(candidate_pairs, df_org, df_dup)"
      ],
      "execution_count": 15,
      "outputs": []
    },
    {
      "cell_type": "code",
      "metadata": {
        "id": "gKVoyOvYaOIZ"
      },
      "source": [
        "def true_class(org, dup):\n",
        "  '''returns true if org and dup are true pair\n",
        "  false otherwise'''\n",
        "  if links[org] == dup:\n",
        "    return True\n",
        "  else:\n",
        "     return False\n",
        "     \n",
        "# add true label column to dataframe\n",
        "df_compare['true_class'] = [true_class(org, dup) for org, dup in df_compare.index]"
      ],
      "execution_count": 16,
      "outputs": []
    },
    {
      "cell_type": "code",
      "metadata": {
        "id": "2ZhdIKv_aQWF"
      },
      "source": [
        "# pull out n labeled pairs for training - \n",
        "# ensure at least 1 match\n",
        "# this would correspond with hand labeling 50 pairs\n",
        "n=50\n",
        "while True:\n",
        "  X_train = df_compare.sample(n=n, random_state=11)\n",
        "  y_train = X_train['true_class']\n",
        "  if np.sum(y_train) > 0:\n",
        "    break\n",
        "X_train = X_train.drop('true_class', axis=1)\n",
        "\n",
        "X_test = df_compare.drop(X_train.index, axis=0)\n",
        "y_test = X_test['true_class']\n",
        "X_test = X_test.drop('true_class', axis=1)\n",
        "\n",
        "# check that rows add up and that X_train index not in X_test\n",
        "assert X_train.shape[0] + X_test.shape[0] == df_compare.shape[0]\n",
        "assert X_train.index[np.random.randint(n)] not in X_test.index"
      ],
      "execution_count": 25,
      "outputs": []
    },
    {
      "cell_type": "code",
      "metadata": {
        "colab": {
          "base_uri": "https://localhost:8080/"
        },
        "id": "kn1JSU1SaVno",
        "outputId": "ce6592a2-e387-4bfd-c442-624a2a3f6739"
      },
      "source": [
        "# test simple model using the n labeled datapoints\n",
        "lr = LogisticRegression(penalty='l2')\n",
        "lr.fit(X_train, y_train)\n",
        "y_pred = lr.predict(X_test)\n",
        "\n",
        "# note: accuracy, precision and recall are all measured only considering\n",
        "# the matches that ended up in the same block\n",
        "# this is because currently we are just trying to work on the classifier,\n",
        "# investigating blocking strategies is a next step\n",
        "\n",
        "print('accuracy', accuracy_score(y_test, y_pred))\n",
        "print('recall', recall_score(y_test, y_pred))\n",
        "print('precision', precision_score(y_test, y_pred))"
      ],
      "execution_count": 26,
      "outputs": [
        {
          "output_type": "stream",
          "text": [
            "accuracy 0.8879862740292027\n",
            "recall 0.24068359838594824\n",
            "precision 1.0\n"
          ],
          "name": "stdout"
        }
      ]
    },
    {
      "cell_type": "code",
      "metadata": {
        "id": "pZVfBaIebKzZ"
      },
      "source": [
        "# ititialize logistic regresssion model and Active Learner\n",
        "# we will use the ActiveLearning class to increase our training\n",
        "# data before using the ensemble class\n",
        "lr = LogisticRegression(penalty='l2')\n",
        "AL = ActiveLearner(df_org, df_dup, X_train, y_train, X_test, lr, 1000, 10)"
      ],
      "execution_count": 27,
      "outputs": []
    },
    {
      "cell_type": "code",
      "metadata": {
        "colab": {
          "base_uri": "https://localhost:8080/"
        },
        "id": "xPhO1YRObbo3",
        "outputId": "b46735ed-523d-467b-8aa6-02b5f21f6edc"
      },
      "source": [
        "AL.train()"
      ],
      "execution_count": 31,
      "outputs": [
        {
          "output_type": "stream",
          "text": [
            "pre train\n",
            " training data shape:  (1060, 10)\n",
            " training labels shape:  (1060,)\n",
            " unlabeled data shape:  (27549, 10)\n",
            "post train\n",
            " training data shape:  (2060, 10)\n",
            " training labels shape:  (2060,)\n",
            " unlabeled data shape:  (26549, 10)\n"
          ],
          "name": "stdout"
        }
      ]
    },
    {
      "cell_type": "code",
      "metadata": {
        "colab": {
          "base_uri": "https://localhost:8080/"
        },
        "id": "oKs2YVfiblkD",
        "outputId": "89b3bef4-b02b-4b88-848b-d5817d489604"
      },
      "source": [
        "# note: accuracy, precision and recall are all measured only considering\n",
        "# the matches that ended up in the same block\n",
        "# this is because currently we are just trying to work on the classifier\n",
        "# investigating blocking strategies is a next step\n",
        "\n",
        "lr_AL = LogisticRegression(penalty='l2')\n",
        "lr_AL.fit(AL.X_train, AL.y_train)\n",
        "y_pred = lr_AL.predict(AL.X_nolabel)\n",
        "y_true = [true_class(org, dup) for org, dup in AL.X_nolabel.index]\n",
        "print('accuracy', accuracy_score(y_pred, y_true))\n",
        "print('recall', recall_score(y_true, y_pred))\n",
        "print('precision', precision_score(y_true, y_pred))"
      ],
      "execution_count": 32,
      "outputs": [
        {
          "output_type": "stream",
          "text": [
            "accuracy 0.9525405853327809\n",
            "recall 0.6903860711582135\n",
            "precision 0.9880823401950163\n"
          ],
          "name": "stdout"
        }
      ]
    },
    {
      "cell_type": "code",
      "metadata": {
        "colab": {
          "base_uri": "https://localhost:8080/",
          "height": 1000
        },
        "id": "gZqTNf_5bpoy",
        "outputId": "3b1a71e4-2950-4cd6-89b1-b2cac36f52b3"
      },
      "source": [
        "# method to perform clerical review\n",
        "# after completing review iterate between training and clerical_review methods to improve performance\n",
        "AL.clerical_review()"
      ],
      "execution_count": 30,
      "outputs": [
        {
          "output_type": "display_data",
          "data": {
            "text/html": [
              "<div>\n",
              "<style scoped>\n",
              "    .dataframe tbody tr th:only-of-type {\n",
              "        vertical-align: middle;\n",
              "    }\n",
              "\n",
              "    .dataframe tbody tr th {\n",
              "        vertical-align: top;\n",
              "    }\n",
              "\n",
              "    .dataframe thead th {\n",
              "        text-align: right;\n",
              "    }\n",
              "</style>\n",
              "<table border=\"1\" class=\"dataframe\">\n",
              "  <thead>\n",
              "    <tr style=\"text-align: right;\">\n",
              "      <th></th>\n",
              "      <th>given_name</th>\n",
              "      <th>surname</th>\n",
              "      <th>street_number</th>\n",
              "      <th>address_1</th>\n",
              "      <th>address_2</th>\n",
              "      <th>suburb</th>\n",
              "      <th>postcode</th>\n",
              "      <th>state</th>\n",
              "      <th>date_of_birth</th>\n",
              "      <th>soc_sec_id</th>\n",
              "    </tr>\n",
              "  </thead>\n",
              "  <tbody>\n",
              "    <tr>\n",
              "      <th>rec-2033-org</th>\n",
              "      <td>carol andrea</td>\n",
              "      <td>illan amer</td>\n",
              "      <td>170</td>\n",
              "      <td>wittenoom crescent</td>\n",
              "      <td>ainslie house</td>\n",
              "      <td>malvern</td>\n",
              "      <td>3161</td>\n",
              "      <td>qld</td>\n",
              "      <td>19321127</td>\n",
              "      <td>7254550</td>\n",
              "    </tr>\n",
              "    <tr>\n",
              "      <th>rec-2033-dup-0</th>\n",
              "      <td>andrea cfrol</td>\n",
              "      <td>amev xllpn</td>\n",
              "      <td>170</td>\n",
              "      <td>crescent winteboom</td>\n",
              "      <td>ainsli w ohuse</td>\n",
              "      <td>ialfflb</td>\n",
              "      <td>3161</td>\n",
              "      <td>qjd</td>\n",
              "      <td>19321127</td>\n",
              "      <td>7254550</td>\n",
              "    </tr>\n",
              "  </tbody>\n",
              "</table>\n",
              "</div>"
            ],
            "text/plain": [
              "                  given_name     surname  ... date_of_birth soc_sec_id\n",
              "rec-2033-org    carol andrea  illan amer  ...      19321127    7254550\n",
              "rec-2033-dup-0  andrea cfrol  amev xllpn  ...      19321127    7254550\n",
              "\n",
              "[2 rows x 10 columns]"
            ]
          },
          "metadata": {
            "tags": []
          }
        },
        {
          "output_type": "stream",
          "text": [
            "Enter label (True/False) :True\n"
          ],
          "name": "stdout"
        },
        {
          "output_type": "display_data",
          "data": {
            "text/html": [
              "<div>\n",
              "<style scoped>\n",
              "    .dataframe tbody tr th:only-of-type {\n",
              "        vertical-align: middle;\n",
              "    }\n",
              "\n",
              "    .dataframe tbody tr th {\n",
              "        vertical-align: top;\n",
              "    }\n",
              "\n",
              "    .dataframe thead th {\n",
              "        text-align: right;\n",
              "    }\n",
              "</style>\n",
              "<table border=\"1\" class=\"dataframe\">\n",
              "  <thead>\n",
              "    <tr style=\"text-align: right;\">\n",
              "      <th></th>\n",
              "      <th>given_name</th>\n",
              "      <th>surname</th>\n",
              "      <th>street_number</th>\n",
              "      <th>address_1</th>\n",
              "      <th>address_2</th>\n",
              "      <th>suburb</th>\n",
              "      <th>postcode</th>\n",
              "      <th>state</th>\n",
              "      <th>date_of_birth</th>\n",
              "      <th>soc_sec_id</th>\n",
              "    </tr>\n",
              "  </thead>\n",
              "  <tbody>\n",
              "    <tr>\n",
              "      <th>rec-3477-org</th>\n",
              "      <td>faustino</td>\n",
              "      <td>canellas jorda</td>\n",
              "      <td>193</td>\n",
              "      <td>frew close</td>\n",
              "      <td>howie circuit</td>\n",
              "      <td>darlington</td>\n",
              "      <td>3875</td>\n",
              "      <td>vic</td>\n",
              "      <td>19370321</td>\n",
              "      <td>1546559</td>\n",
              "    </tr>\n",
              "    <tr>\n",
              "      <th>rec-3477-dup-0</th>\n",
              "      <td>daustjnf</td>\n",
              "      <td>canellasujorda</td>\n",
              "      <td>693</td>\n",
              "      <td>zrfwfchcoe</td>\n",
              "      <td>howde cifcuit</td>\n",
              "      <td>darltagtjn</td>\n",
              "      <td>3875</td>\n",
              "      <td>vim</td>\n",
              "      <td>89740321</td>\n",
              "      <td>1346559</td>\n",
              "    </tr>\n",
              "  </tbody>\n",
              "</table>\n",
              "</div>"
            ],
            "text/plain": [
              "               given_name         surname  ... date_of_birth soc_sec_id\n",
              "rec-3477-org     faustino  canellas jorda  ...      19370321    1546559\n",
              "rec-3477-dup-0   daustjnf  canellasujorda  ...      89740321    1346559\n",
              "\n",
              "[2 rows x 10 columns]"
            ]
          },
          "metadata": {
            "tags": []
          }
        },
        {
          "output_type": "stream",
          "text": [
            "Enter label (True/False) :True\n"
          ],
          "name": "stdout"
        },
        {
          "output_type": "display_data",
          "data": {
            "text/html": [
              "<div>\n",
              "<style scoped>\n",
              "    .dataframe tbody tr th:only-of-type {\n",
              "        vertical-align: middle;\n",
              "    }\n",
              "\n",
              "    .dataframe tbody tr th {\n",
              "        vertical-align: top;\n",
              "    }\n",
              "\n",
              "    .dataframe thead th {\n",
              "        text-align: right;\n",
              "    }\n",
              "</style>\n",
              "<table border=\"1\" class=\"dataframe\">\n",
              "  <thead>\n",
              "    <tr style=\"text-align: right;\">\n",
              "      <th></th>\n",
              "      <th>given_name</th>\n",
              "      <th>surname</th>\n",
              "      <th>street_number</th>\n",
              "      <th>address_1</th>\n",
              "      <th>address_2</th>\n",
              "      <th>suburb</th>\n",
              "      <th>postcode</th>\n",
              "      <th>state</th>\n",
              "      <th>date_of_birth</th>\n",
              "      <th>soc_sec_id</th>\n",
              "    </tr>\n",
              "  </thead>\n",
              "  <tbody>\n",
              "    <tr>\n",
              "      <th>rec-2425-org</th>\n",
              "      <td>maria gertrudis</td>\n",
              "      <td>pedrajas belmonte</td>\n",
              "      <td>12</td>\n",
              "      <td>edman close</td>\n",
              "      <td>targonga</td>\n",
              "      <td>barcaldine</td>\n",
              "      <td>6028</td>\n",
              "      <td>nsw</td>\n",
              "      <td>19000812</td>\n",
              "      <td>3954979</td>\n",
              "    </tr>\n",
              "    <tr>\n",
              "      <th>rec-2425-dup-0</th>\n",
              "      <td>gertrulip earia</td>\n",
              "      <td>ledrajas belmonte</td>\n",
              "      <td>52</td>\n",
              "      <td>oue admanecz</td>\n",
              "      <td>badgonga</td>\n",
              "      <td>vale btrkeley</td>\n",
              "      <td>6028</td>\n",
              "      <td>nsw</td>\n",
              "      <td>49410818</td>\n",
              "      <td>3954979</td>\n",
              "    </tr>\n",
              "  </tbody>\n",
              "</table>\n",
              "</div>"
            ],
            "text/plain": [
              "                     given_name            surname  ... date_of_birth soc_sec_id\n",
              "rec-2425-org    maria gertrudis  pedrajas belmonte  ...      19000812    3954979\n",
              "rec-2425-dup-0  gertrulip earia  ledrajas belmonte  ...      49410818    3954979\n",
              "\n",
              "[2 rows x 10 columns]"
            ]
          },
          "metadata": {
            "tags": []
          }
        },
        {
          "output_type": "stream",
          "text": [
            "Enter label (True/False) :True\n"
          ],
          "name": "stdout"
        },
        {
          "output_type": "display_data",
          "data": {
            "text/html": [
              "<div>\n",
              "<style scoped>\n",
              "    .dataframe tbody tr th:only-of-type {\n",
              "        vertical-align: middle;\n",
              "    }\n",
              "\n",
              "    .dataframe tbody tr th {\n",
              "        vertical-align: top;\n",
              "    }\n",
              "\n",
              "    .dataframe thead th {\n",
              "        text-align: right;\n",
              "    }\n",
              "</style>\n",
              "<table border=\"1\" class=\"dataframe\">\n",
              "  <thead>\n",
              "    <tr style=\"text-align: right;\">\n",
              "      <th></th>\n",
              "      <th>given_name</th>\n",
              "      <th>surname</th>\n",
              "      <th>street_number</th>\n",
              "      <th>address_1</th>\n",
              "      <th>address_2</th>\n",
              "      <th>suburb</th>\n",
              "      <th>postcode</th>\n",
              "      <th>state</th>\n",
              "      <th>date_of_birth</th>\n",
              "      <th>soc_sec_id</th>\n",
              "    </tr>\n",
              "  </thead>\n",
              "  <tbody>\n",
              "    <tr>\n",
              "      <th>rec-3224-org</th>\n",
              "      <td>lorena carmen</td>\n",
              "      <td>vilalta minano</td>\n",
              "      <td>2</td>\n",
              "      <td>chevalier street</td>\n",
              "      <td>NaN</td>\n",
              "      <td>wantirna</td>\n",
              "      <td>3150</td>\n",
              "      <td>vic</td>\n",
              "      <td>19740724</td>\n",
              "      <td>6423373</td>\n",
              "    </tr>\n",
              "    <tr>\n",
              "      <th>rec-3224-dup-0</th>\n",
              "      <td>carmen lorena</td>\n",
              "      <td>vilalta minano</td>\n",
              "      <td>2</td>\n",
              "      <td>chuvajie r street</td>\n",
              "      <td>NaN</td>\n",
              "      <td>weebevna</td>\n",
              "      <td>3150</td>\n",
              "      <td>vfc</td>\n",
              "      <td>19760724</td>\n",
              "      <td>6423373</td>\n",
              "    </tr>\n",
              "  </tbody>\n",
              "</table>\n",
              "</div>"
            ],
            "text/plain": [
              "                   given_name         surname  ... date_of_birth soc_sec_id\n",
              "rec-3224-org    lorena carmen  vilalta minano  ...      19740724    6423373\n",
              "rec-3224-dup-0  carmen lorena  vilalta minano  ...      19760724    6423373\n",
              "\n",
              "[2 rows x 10 columns]"
            ]
          },
          "metadata": {
            "tags": []
          }
        },
        {
          "output_type": "stream",
          "text": [
            "Enter label (True/False) :True\n"
          ],
          "name": "stdout"
        },
        {
          "output_type": "display_data",
          "data": {
            "text/html": [
              "<div>\n",
              "<style scoped>\n",
              "    .dataframe tbody tr th:only-of-type {\n",
              "        vertical-align: middle;\n",
              "    }\n",
              "\n",
              "    .dataframe tbody tr th {\n",
              "        vertical-align: top;\n",
              "    }\n",
              "\n",
              "    .dataframe thead th {\n",
              "        text-align: right;\n",
              "    }\n",
              "</style>\n",
              "<table border=\"1\" class=\"dataframe\">\n",
              "  <thead>\n",
              "    <tr style=\"text-align: right;\">\n",
              "      <th></th>\n",
              "      <th>given_name</th>\n",
              "      <th>surname</th>\n",
              "      <th>street_number</th>\n",
              "      <th>address_1</th>\n",
              "      <th>address_2</th>\n",
              "      <th>suburb</th>\n",
              "      <th>postcode</th>\n",
              "      <th>state</th>\n",
              "      <th>date_of_birth</th>\n",
              "      <th>soc_sec_id</th>\n",
              "    </tr>\n",
              "  </thead>\n",
              "  <tbody>\n",
              "    <tr>\n",
              "      <th>rec-3534-org</th>\n",
              "      <td>jose eulogio</td>\n",
              "      <td>diamanka coto</td>\n",
              "      <td>2</td>\n",
              "      <td>jerrabomberra avenue</td>\n",
              "      <td>yambungan station</td>\n",
              "      <td>cecil hills</td>\n",
              "      <td>4702</td>\n",
              "      <td>vic</td>\n",
              "      <td>19481117</td>\n",
              "      <td>6961701</td>\n",
              "    </tr>\n",
              "    <tr>\n",
              "      <th>rec-3534-dup-0</th>\n",
              "      <td>eulogio jose</td>\n",
              "      <td>coto diamanka</td>\n",
              "      <td>2</td>\n",
              "      <td>avente jerrabomberra</td>\n",
              "      <td>station yambongan</td>\n",
              "      <td>recwlegcllj</td>\n",
              "      <td>4702</td>\n",
              "      <td>vif</td>\n",
              "      <td>39431117</td>\n",
              "      <td>6961701</td>\n",
              "    </tr>\n",
              "  </tbody>\n",
              "</table>\n",
              "</div>"
            ],
            "text/plain": [
              "                  given_name        surname  ... date_of_birth soc_sec_id\n",
              "rec-3534-org    jose eulogio  diamanka coto  ...      19481117    6961701\n",
              "rec-3534-dup-0  eulogio jose  coto diamanka  ...      39431117    6961701\n",
              "\n",
              "[2 rows x 10 columns]"
            ]
          },
          "metadata": {
            "tags": []
          }
        },
        {
          "output_type": "stream",
          "text": [
            "Enter label (True/False) :True\n"
          ],
          "name": "stdout"
        },
        {
          "output_type": "display_data",
          "data": {
            "text/html": [
              "<div>\n",
              "<style scoped>\n",
              "    .dataframe tbody tr th:only-of-type {\n",
              "        vertical-align: middle;\n",
              "    }\n",
              "\n",
              "    .dataframe tbody tr th {\n",
              "        vertical-align: top;\n",
              "    }\n",
              "\n",
              "    .dataframe thead th {\n",
              "        text-align: right;\n",
              "    }\n",
              "</style>\n",
              "<table border=\"1\" class=\"dataframe\">\n",
              "  <thead>\n",
              "    <tr style=\"text-align: right;\">\n",
              "      <th></th>\n",
              "      <th>given_name</th>\n",
              "      <th>surname</th>\n",
              "      <th>street_number</th>\n",
              "      <th>address_1</th>\n",
              "      <th>address_2</th>\n",
              "      <th>suburb</th>\n",
              "      <th>postcode</th>\n",
              "      <th>state</th>\n",
              "      <th>date_of_birth</th>\n",
              "      <th>soc_sec_id</th>\n",
              "    </tr>\n",
              "  </thead>\n",
              "  <tbody>\n",
              "    <tr>\n",
              "      <th>rec-2584-org</th>\n",
              "      <td>isabel francisca</td>\n",
              "      <td>paez diz</td>\n",
              "      <td>2</td>\n",
              "      <td>lance hill avenue</td>\n",
              "      <td>rosemount</td>\n",
              "      <td>whitfield</td>\n",
              "      <td>4207</td>\n",
              "      <td>qld</td>\n",
              "      <td>19120203</td>\n",
              "      <td>3093917</td>\n",
              "    </tr>\n",
              "    <tr>\n",
              "      <th>rec-2584-dup-0</th>\n",
              "      <td>fravcisca isibel</td>\n",
              "      <td>diz paeo</td>\n",
              "      <td>5</td>\n",
              "      <td>avenue mabcsokicn</td>\n",
              "      <td>rosrmount</td>\n",
              "      <td>uhittield</td>\n",
              "      <td>4207</td>\n",
              "      <td>qld</td>\n",
              "      <td>10120203</td>\n",
              "      <td>3493917</td>\n",
              "    </tr>\n",
              "  </tbody>\n",
              "</table>\n",
              "</div>"
            ],
            "text/plain": [
              "                      given_name   surname  ... date_of_birth soc_sec_id\n",
              "rec-2584-org    isabel francisca  paez diz  ...      19120203    3093917\n",
              "rec-2584-dup-0  fravcisca isibel  diz paeo  ...      10120203    3493917\n",
              "\n",
              "[2 rows x 10 columns]"
            ]
          },
          "metadata": {
            "tags": []
          }
        },
        {
          "output_type": "stream",
          "text": [
            "Enter label (True/False) :True\n"
          ],
          "name": "stdout"
        },
        {
          "output_type": "display_data",
          "data": {
            "text/html": [
              "<div>\n",
              "<style scoped>\n",
              "    .dataframe tbody tr th:only-of-type {\n",
              "        vertical-align: middle;\n",
              "    }\n",
              "\n",
              "    .dataframe tbody tr th {\n",
              "        vertical-align: top;\n",
              "    }\n",
              "\n",
              "    .dataframe thead th {\n",
              "        text-align: right;\n",
              "    }\n",
              "</style>\n",
              "<table border=\"1\" class=\"dataframe\">\n",
              "  <thead>\n",
              "    <tr style=\"text-align: right;\">\n",
              "      <th></th>\n",
              "      <th>given_name</th>\n",
              "      <th>surname</th>\n",
              "      <th>street_number</th>\n",
              "      <th>address_1</th>\n",
              "      <th>address_2</th>\n",
              "      <th>suburb</th>\n",
              "      <th>postcode</th>\n",
              "      <th>state</th>\n",
              "      <th>date_of_birth</th>\n",
              "      <th>soc_sec_id</th>\n",
              "    </tr>\n",
              "  </thead>\n",
              "  <tbody>\n",
              "    <tr>\n",
              "      <th>rec-2008-org</th>\n",
              "      <td>antonia elvira</td>\n",
              "      <td>payo trillo</td>\n",
              "      <td>9</td>\n",
              "      <td>saunders street</td>\n",
              "      <td>scts crk</td>\n",
              "      <td>macquarie park</td>\n",
              "      <td>6323</td>\n",
              "      <td>nsw</td>\n",
              "      <td>19040601</td>\n",
              "      <td>8785526</td>\n",
              "    </tr>\n",
              "    <tr>\n",
              "      <th>rec-2008-dup-0</th>\n",
              "      <td>elwira antonia</td>\n",
              "      <td>payo trislo</td>\n",
              "      <td>7</td>\n",
              "      <td>scts rck</td>\n",
              "      <td>saundqrs ssreet</td>\n",
              "      <td>park macquarie</td>\n",
              "      <td>6323</td>\n",
              "      <td>nsw</td>\n",
              "      <td>19321604</td>\n",
              "      <td>8785526</td>\n",
              "    </tr>\n",
              "  </tbody>\n",
              "</table>\n",
              "</div>"
            ],
            "text/plain": [
              "                    given_name      surname  ... date_of_birth soc_sec_id\n",
              "rec-2008-org    antonia elvira  payo trillo  ...      19040601    8785526\n",
              "rec-2008-dup-0  elwira antonia  payo trislo  ...      19321604    8785526\n",
              "\n",
              "[2 rows x 10 columns]"
            ]
          },
          "metadata": {
            "tags": []
          }
        },
        {
          "output_type": "stream",
          "text": [
            "Enter label (True/False) :True\n"
          ],
          "name": "stdout"
        },
        {
          "output_type": "display_data",
          "data": {
            "text/html": [
              "<div>\n",
              "<style scoped>\n",
              "    .dataframe tbody tr th:only-of-type {\n",
              "        vertical-align: middle;\n",
              "    }\n",
              "\n",
              "    .dataframe tbody tr th {\n",
              "        vertical-align: top;\n",
              "    }\n",
              "\n",
              "    .dataframe thead th {\n",
              "        text-align: right;\n",
              "    }\n",
              "</style>\n",
              "<table border=\"1\" class=\"dataframe\">\n",
              "  <thead>\n",
              "    <tr style=\"text-align: right;\">\n",
              "      <th></th>\n",
              "      <th>given_name</th>\n",
              "      <th>surname</th>\n",
              "      <th>street_number</th>\n",
              "      <th>address_1</th>\n",
              "      <th>address_2</th>\n",
              "      <th>suburb</th>\n",
              "      <th>postcode</th>\n",
              "      <th>state</th>\n",
              "      <th>date_of_birth</th>\n",
              "      <th>soc_sec_id</th>\n",
              "    </tr>\n",
              "  </thead>\n",
              "  <tbody>\n",
              "    <tr>\n",
              "      <th>rec-1824-org</th>\n",
              "      <td>elizabet</td>\n",
              "      <td>pina cardo</td>\n",
              "      <td>559</td>\n",
              "      <td>george street</td>\n",
              "      <td>garden settlement</td>\n",
              "      <td>newmarket</td>\n",
              "      <td>4505</td>\n",
              "      <td>qld</td>\n",
              "      <td>19950329</td>\n",
              "      <td>4718403</td>\n",
              "    </tr>\n",
              "    <tr>\n",
              "      <th>rec-1824-dup-0</th>\n",
              "      <td>elizabet</td>\n",
              "      <td>capdo pina</td>\n",
              "      <td>559</td>\n",
              "      <td>afreet gqorgo</td>\n",
              "      <td>NaN</td>\n",
              "      <td>newmarket</td>\n",
              "      <td>4505</td>\n",
              "      <td>qlz</td>\n",
              "      <td>19950329</td>\n",
              "      <td>0818403</td>\n",
              "    </tr>\n",
              "  </tbody>\n",
              "</table>\n",
              "</div>"
            ],
            "text/plain": [
              "               given_name     surname  ... date_of_birth soc_sec_id\n",
              "rec-1824-org     elizabet  pina cardo  ...      19950329    4718403\n",
              "rec-1824-dup-0   elizabet  capdo pina  ...      19950329    0818403\n",
              "\n",
              "[2 rows x 10 columns]"
            ]
          },
          "metadata": {
            "tags": []
          }
        },
        {
          "output_type": "stream",
          "text": [
            "Enter label (True/False) :True\n"
          ],
          "name": "stdout"
        },
        {
          "output_type": "display_data",
          "data": {
            "text/html": [
              "<div>\n",
              "<style scoped>\n",
              "    .dataframe tbody tr th:only-of-type {\n",
              "        vertical-align: middle;\n",
              "    }\n",
              "\n",
              "    .dataframe tbody tr th {\n",
              "        vertical-align: top;\n",
              "    }\n",
              "\n",
              "    .dataframe thead th {\n",
              "        text-align: right;\n",
              "    }\n",
              "</style>\n",
              "<table border=\"1\" class=\"dataframe\">\n",
              "  <thead>\n",
              "    <tr style=\"text-align: right;\">\n",
              "      <th></th>\n",
              "      <th>given_name</th>\n",
              "      <th>surname</th>\n",
              "      <th>street_number</th>\n",
              "      <th>address_1</th>\n",
              "      <th>address_2</th>\n",
              "      <th>suburb</th>\n",
              "      <th>postcode</th>\n",
              "      <th>state</th>\n",
              "      <th>date_of_birth</th>\n",
              "      <th>soc_sec_id</th>\n",
              "    </tr>\n",
              "  </thead>\n",
              "  <tbody>\n",
              "    <tr>\n",
              "      <th>rec-3408-org</th>\n",
              "      <td>esteban</td>\n",
              "      <td>garrigos carranza</td>\n",
              "      <td>13</td>\n",
              "      <td>parkhill street</td>\n",
              "      <td>myola street</td>\n",
              "      <td>mount pleasant</td>\n",
              "      <td>7248</td>\n",
              "      <td>tas</td>\n",
              "      <td>19510311</td>\n",
              "      <td>5036866</td>\n",
              "    </tr>\n",
              "    <tr>\n",
              "      <th>rec-3408-dup-0</th>\n",
              "      <td>esteban</td>\n",
              "      <td>varranza gvgrigov</td>\n",
              "      <td>16</td>\n",
              "      <td>pprkhillystreet</td>\n",
              "      <td>myolajdtreet</td>\n",
              "      <td>plepsant mount</td>\n",
              "      <td>7248</td>\n",
              "      <td>tas</td>\n",
              "      <td>19510311</td>\n",
              "      <td>5001566</td>\n",
              "    </tr>\n",
              "  </tbody>\n",
              "</table>\n",
              "</div>"
            ],
            "text/plain": [
              "               given_name            surname  ... date_of_birth soc_sec_id\n",
              "rec-3408-org      esteban  garrigos carranza  ...      19510311    5036866\n",
              "rec-3408-dup-0    esteban  varranza gvgrigov  ...      19510311    5001566\n",
              "\n",
              "[2 rows x 10 columns]"
            ]
          },
          "metadata": {
            "tags": []
          }
        },
        {
          "output_type": "stream",
          "text": [
            "Enter label (True/False) :True\n"
          ],
          "name": "stdout"
        },
        {
          "output_type": "display_data",
          "data": {
            "text/html": [
              "<div>\n",
              "<style scoped>\n",
              "    .dataframe tbody tr th:only-of-type {\n",
              "        vertical-align: middle;\n",
              "    }\n",
              "\n",
              "    .dataframe tbody tr th {\n",
              "        vertical-align: top;\n",
              "    }\n",
              "\n",
              "    .dataframe thead th {\n",
              "        text-align: right;\n",
              "    }\n",
              "</style>\n",
              "<table border=\"1\" class=\"dataframe\">\n",
              "  <thead>\n",
              "    <tr style=\"text-align: right;\">\n",
              "      <th></th>\n",
              "      <th>given_name</th>\n",
              "      <th>surname</th>\n",
              "      <th>street_number</th>\n",
              "      <th>address_1</th>\n",
              "      <th>address_2</th>\n",
              "      <th>suburb</th>\n",
              "      <th>postcode</th>\n",
              "      <th>state</th>\n",
              "      <th>date_of_birth</th>\n",
              "      <th>soc_sec_id</th>\n",
              "    </tr>\n",
              "  </thead>\n",
              "  <tbody>\n",
              "    <tr>\n",
              "      <th>rec-2578-org</th>\n",
              "      <td>hortensia</td>\n",
              "      <td>puerto gascon</td>\n",
              "      <td>113</td>\n",
              "      <td>companion crescent</td>\n",
              "      <td>parkdale lodge</td>\n",
              "      <td>cleveland</td>\n",
              "      <td>3556</td>\n",
              "      <td>vic</td>\n",
              "      <td>19030124</td>\n",
              "      <td>5666451</td>\n",
              "    </tr>\n",
              "    <tr>\n",
              "      <th>rec-2578-dup-0</th>\n",
              "      <td>rtrbevsik</td>\n",
              "      <td>gascon puzrto</td>\n",
              "      <td>112</td>\n",
              "      <td>crescent companiozn</td>\n",
              "      <td>parkqals lodge</td>\n",
              "      <td>cgivelnnd</td>\n",
              "      <td>3556</td>\n",
              "      <td>vic</td>\n",
              "      <td>18890126</td>\n",
              "      <td>5666451</td>\n",
              "    </tr>\n",
              "  </tbody>\n",
              "</table>\n",
              "</div>"
            ],
            "text/plain": [
              "               given_name        surname  ... date_of_birth soc_sec_id\n",
              "rec-2578-org    hortensia  puerto gascon  ...      19030124    5666451\n",
              "rec-2578-dup-0  rtrbevsik  gascon puzrto  ...      18890126    5666451\n",
              "\n",
              "[2 rows x 10 columns]"
            ]
          },
          "metadata": {
            "tags": []
          }
        },
        {
          "output_type": "stream",
          "text": [
            "Enter label (True/False) :True\n",
            "all data labeled\n"
          ],
          "name": "stdout"
        }
      ]
    },
    {
      "cell_type": "code",
      "metadata": {
        "id": "7nne4T2ocAdX"
      },
      "source": [
        "# note: After one round of active learning the performance \n",
        "# of a simple linear regression was \n",
        "# accuracy 0.9525405853327809\n",
        "# recall 0.6903860711582135\n",
        "# precision 0.9880823401950163\n",
        "# the training data has increased from 50 to 2060 with only 10 additional observations labeled by hand during AL\n",
        "# lets see if we can improve with the ensemble"
      ],
      "execution_count": null,
      "outputs": []
    },
    {
      "cell_type": "code",
      "metadata": {
        "id": "hMH3i-s2dOJT"
      },
      "source": [
        "# initialize ensemble class\n",
        "Ens = Ensemble(df_org, df_dup, candidate_pairs)"
      ],
      "execution_count": 33,
      "outputs": []
    },
    {
      "cell_type": "code",
      "metadata": {
        "colab": {
          "base_uri": "https://localhost:8080/"
        },
        "id": "I0qyKvARdZD1",
        "outputId": "0059abf3-0044-478c-eca8-b55b987307b6"
      },
      "source": [
        "# compute highest diversity sets of distance measures\n",
        "Ens.measurement_scheme(.5, True)"
      ],
      "execution_count": 34,
      "outputs": [
        {
          "output_type": "execute_result",
          "data": {
            "text/plain": [
              "{'address_1': ['jaro', 'qgram'],\n",
              " 'address_2': ['jaro', 'qgram'],\n",
              " 'date_of_birth': ['cosine', 'jaro'],\n",
              " 'given_name': ['jaro', 'qgram'],\n",
              " 'postcode': ['jaro', 'jarowinkler'],\n",
              " 'soc_sec_id': ['cosine', 'jaro'],\n",
              " 'state': ['jaro', 'qgram'],\n",
              " 'street_number': ['jaro', 'qgram'],\n",
              " 'suburb': ['jaro', 'qgram'],\n",
              " 'surname': ['jaro', 'qgram']}"
            ]
          },
          "metadata": {
            "tags": []
          },
          "execution_count": 34
        }
      ]
    },
    {
      "cell_type": "code",
      "metadata": {
        "colab": {
          "base_uri": "https://localhost:8080/",
          "height": 49,
          "referenced_widgets": [
            "ea49288f3c67448aad6b1a70288e48fb",
            "1b47733d0810460bb86a225ffdddb87c",
            "39ee8aa2fb2846c4a2571fc0b6de3af8",
            "7c1cc900864d40db8cf5cedc4a7119ba",
            "f6640a87b22e4b2f8f08d5c0e5451251",
            "59f0efce93e84a04b1580145f4fd9123",
            "fa5aceb12fc54a129c1426b51cf7a232",
            "dc6d149fb4d44522a98019d6646d7eb1"
          ]
        },
        "id": "vRmQ1GExdd6e",
        "outputId": "9680b849-d29d-4183-cc6a-24e8069c7308"
      },
      "source": [
        "# compute schemes of all combinations of distance measures\n",
        "# the second parameter is optional and can be used to trigger early stopping after n schemes are built\n",
        "# this can be used to save time when experimenting but the parameter should not be passed when\n",
        "# it is time to make final predictions\n",
        "# for example run Ens.build_schemes(False) when training final model\n",
        "Ens.build_schemes(False, 100)"
      ],
      "execution_count": 35,
      "outputs": [
        {
          "output_type": "display_data",
          "data": {
            "application/vnd.jupyter.widget-view+json": {
              "model_id": "ea49288f3c67448aad6b1a70288e48fb",
              "version_minor": 0,
              "version_major": 2
            },
            "text/plain": [
              "HBox(children=(FloatProgress(value=1.0, bar_style='info', max=1.0), HTML(value='')))"
            ]
          },
          "metadata": {
            "tags": []
          }
        }
      ]
    },
    {
      "cell_type": "code",
      "metadata": {
        "id": "Z3PvW4Vxcp7u"
      },
      "source": [
        "# create list of classifiers to pass into ensemble\n",
        "# model_list = [LogisticRegression(penalty='l2') for _ in range(100)]\n",
        "model_list = [LogisticRegression(penalty='l2') if i%2 == 0 else RFC() for i in range(100)]\n",
        "# model_list = [RFC() for _ in range(100)]"
      ],
      "execution_count": 46,
      "outputs": []
    },
    {
      "cell_type": "code",
      "metadata": {
        "colab": {
          "base_uri": "https://localhost:8080/",
          "height": 66,
          "referenced_widgets": [
            "04dd7594f3b94ceca702b7de5367a47a",
            "6a22ecfa8b064f09b82db2802a2798c3",
            "70d8278d549d4c37aac878dd8ea408aa",
            "53a8fd69ef1b443093d378d6bd42d584",
            "be4832ba5ade42ecb9b2a583b94650ce",
            "8321605d2a8b486ba1a262c0f6d47cd6",
            "9fe984bc78324ad5bcc1b527a8d50ff0",
            "7b27ab2efba0430886281fad32bec466"
          ]
        },
        "id": "cFW26_0zdttx",
        "outputId": "17a97b2f-45b6-4fe7-ae9b-183700985cce"
      },
      "source": [
        "# method to train ensembles \n",
        "# we will use all the traning data that we now have saved in the ActiveLearner class\n",
        "indices_train_AL = AL.X_train.index\n",
        "y_train_AL = AL.y_train\n",
        "Ens.train_ensemble(indices_train_AL, y_train_AL, model_list)"
      ],
      "execution_count": 47,
      "outputs": [
        {
          "output_type": "display_data",
          "data": {
            "application/vnd.jupyter.widget-view+json": {
              "model_id": "04dd7594f3b94ceca702b7de5367a47a",
              "version_minor": 0,
              "version_major": 2
            },
            "text/plain": [
              "HBox(children=(FloatProgress(value=1.0, bar_style='info', max=1.0), HTML(value='')))"
            ]
          },
          "metadata": {
            "tags": []
          }
        },
        {
          "output_type": "stream",
          "text": [
            "\n"
          ],
          "name": "stdout"
        }
      ]
    },
    {
      "cell_type": "code",
      "metadata": {
        "id": "SwoZImp9fCE7"
      },
      "source": [
        "# method to predict \n",
        "# we will use all the unlabeled data in the ActiveLearner class\n",
        "indices_test_AL = AL.X_nolabel.index\n",
        "y_pred = Ens.pred_ensemble(indices_test_AL)"
      ],
      "execution_count": 48,
      "outputs": []
    },
    {
      "cell_type": "code",
      "metadata": {
        "id": "ErWCux4JhHQD"
      },
      "source": [
        "# list of true labels to evaluate model performance\n",
        "y_true_AL = [true_class(org, dup) for org, dup in indices_test_AL]"
      ],
      "execution_count": 49,
      "outputs": []
    },
    {
      "cell_type": "code",
      "metadata": {
        "colab": {
          "base_uri": "https://localhost:8080/"
        },
        "id": "sOWXoAeofJR6",
        "outputId": "43e4d289-8905-4f65-fc56-b371b6834222"
      },
      "source": [
        "# note: accuracy, precision and recall are all measured only considering\n",
        "# the matches that ended up in the same block\n",
        "# this is because currently we are just trying to work on the classifier\n",
        "# investigating blocking strategies is a next step\n",
        "\n",
        "print('accuracy', accuracy_score(y_true_AL, y_pred))\n",
        "print('recall', recall_score(y_true_AL, y_pred))\n",
        "print('precision', precision_score(y_true_AL, y_pred))"
      ],
      "execution_count": 50,
      "outputs": [
        {
          "output_type": "stream",
          "text": [
            "accuracy 0.9803005762928924\n",
            "recall 0.8682816048448145\n",
            "precision 0.9997094712376525\n"
          ],
          "name": "stdout"
        }
      ]
    },
    {
      "cell_type": "code",
      "metadata": {
        "id": "dcNwB2AwgHkG"
      },
      "source": [
        "# accuracy, precision and recall are all improved\n",
        "# most notably with the ensemble the recall is improved significantly\n",
        "# also its important to note that the data is extremely noisy\n",
        "# likely noisier than real world data"
      ],
      "execution_count": null,
      "outputs": []
    },
    {
      "cell_type": "code",
      "metadata": {
        "id": "mD5WUkAJhCS2"
      },
      "source": [
        "# just lr\n",
        "# accuracy 0.9710346905721496\n",
        "# recall 0.8062074186222559\n",
        "# precision 0.9996871088861077\n",
        "\n",
        "# half lr half RF\n",
        "# accuracy 0.9803005762928924\n",
        "# recall 0.8682816048448145\n",
        "# precision 0.9997094712376525\n",
        "\n",
        "# only RF\n",
        "# accuracy 0.9920524313533466\n",
        "# recall 0.9475145092101943\n",
        "# precision 0.9992017030335285"
      ],
      "execution_count": null,
      "outputs": []
    },
    {
      "cell_type": "code",
      "metadata": {
        "id": "MNQi7i7TlzLg"
      },
      "source": [
        ""
      ],
      "execution_count": null,
      "outputs": []
    },
    {
      "cell_type": "code",
      "metadata": {
        "id": "lmlmTViJmENh"
      },
      "source": [
        ""
      ],
      "execution_count": null,
      "outputs": []
    },
    {
      "cell_type": "code",
      "metadata": {
        "id": "G4MzAXtsmao6"
      },
      "source": [
        ""
      ],
      "execution_count": null,
      "outputs": []
    },
    {
      "cell_type": "code",
      "metadata": {
        "id": "iU__DOK4meWh"
      },
      "source": [
        ""
      ],
      "execution_count": null,
      "outputs": []
    }
  ]
}