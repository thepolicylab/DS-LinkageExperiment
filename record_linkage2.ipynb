{
  "nbformat": 4,
  "nbformat_minor": 0,
  "metadata": {
    "colab": {
      "name": "record_linkage2.ipynb",
      "provenance": [],
      "collapsed_sections": []
    },
    "kernelspec": {
      "name": "python3",
      "display_name": "Python 3"
    },
    "language_info": {
      "name": "python"
    }
  },
  "cells": [
    {
      "cell_type": "code",
      "metadata": {
        "id": "rTr5lAWXdf-A"
      },
      "source": [
        "# !pip install recordlinkage"
      ],
      "execution_count": 4,
      "outputs": []
    },
    {
      "cell_type": "code",
      "metadata": {
        "id": "ejYDMxHIpmIz"
      },
      "source": [
        "import recordlinkage\n",
        "import pandas as pd\n",
        "from collections import defaultdict\n",
        "from matplotlib import pyplot as plt\n",
        "import plotly.express as px\n",
        "from sklearn.metrics import accuracy_score, recall_score, precision_score, f1_score\n",
        "import numpy as np\n",
        "from sklearn.linear_model import LogisticRegression\n",
        "from ensemble import ActiveLearner"
      ],
      "execution_count": 16,
      "outputs": []
    },
    {
      "cell_type": "code",
      "metadata": {
        "id": "idMN1-X6qpPz"
      },
      "source": [
        "# data: https://dataverse.harvard.edu/dataset.xhtml?persistentId=doi:10.7910/DVN/JKBULA\n",
        "names = ['id', 'first', 'last', 'address', 'city']\n",
        "start_index = 0\n",
        "df_org = pd.read_csv('Q.txt', delimiter=',', names=names)\n",
        "df_dup = pd.read_csv('A.txt', delimiter=',', encoding=\"ISO-8859-1\", names=names)\n",
        "df_dup = df_dup.iloc[[i for i in range(start_index,df_dup.shape[0],10)]]\n",
        "assert df_org.shape ==  df_dup.shape"
      ],
      "execution_count": 7,
      "outputs": []
    },
    {
      "cell_type": "code",
      "metadata": {
        "id": "WxsrnphGqryZ"
      },
      "source": [
        "# create dict of true links\n",
        "def def_value():\n",
        "    return False\n",
        "      \n",
        "links = defaultdict(def_value)\n",
        "\n",
        "for i in range(df_org.shape[0]):\n",
        "  assert df_org.iloc[i]['id'][1:] == df_dup.iloc[i]['id'][1:-2]\n",
        "  links[df_org.iloc[i]['id']] = df_dup.iloc[i]['id']"
      ],
      "execution_count": 8,
      "outputs": []
    },
    {
      "cell_type": "code",
      "metadata": {
        "id": "ynvXZBQ64v8G"
      },
      "source": [
        "# set index as id\n",
        "df_org = df_org.set_index('id')\n",
        "df_dup = df_dup.set_index('id')"
      ],
      "execution_count": 9,
      "outputs": []
    },
    {
      "cell_type": "code",
      "metadata": {
        "id": "w7H_S5lH7ESt"
      },
      "source": [
        "# df_org['block'] = df_org['last'].apply(lambda name: name[0].lower())\n",
        "# df_dup['block'] = df_dup['last'].apply(lambda name: name[0].lower())"
      ],
      "execution_count": null,
      "outputs": []
    },
    {
      "cell_type": "code",
      "metadata": {
        "id": "cr67zV52s5gQ"
      },
      "source": [
        "indexer = recordlinkage.SortedNeighbourhoodIndex(\n",
        "        'address', window=225\n",
        "    )\n",
        "\n",
        "candidate_pairs = indexer.index(df_org, df_dup)\n",
        "\n",
        "# initialise class\n",
        "comp = recordlinkage.Compare()\n",
        "\n",
        "# initialise similarity measurement algorithms\n",
        "comp.string('first', 'first', method='jarowinkler')\n",
        "comp.string('last', 'last', method='jarowinkler')\n",
        "# comp.string('address', 'address', method='jarowinkler')\n",
        "comp.string('city', 'city', method='jarowinkler')\n",
        "\n",
        "# the method .compute() returns the DataFrame with the feature vectors.\n",
        "df_compare = comp.compute(candidate_pairs, df_org, df_dup)"
      ],
      "execution_count": 10,
      "outputs": []
    },
    {
      "cell_type": "code",
      "metadata": {
        "colab": {
          "base_uri": "https://localhost:8080/"
        },
        "id": "74NBBhi8z8b4",
        "outputId": "7563409a-4e08-4772-9ae4-ded2f56151f0"
      },
      "source": [
        "# percent of true matches that end up in the same block\n",
        "\n",
        "sum(l in candidate_pairs for l in links.items()) / len(links)"
      ],
      "execution_count": 11,
      "outputs": [
        {
          "output_type": "execute_result",
          "data": {
            "text/plain": [
              "0.8673"
            ]
          },
          "metadata": {
            "tags": []
          },
          "execution_count": 11
        }
      ]
    },
    {
      "cell_type": "code",
      "metadata": {
        "id": "VX3tlzvE3I_e"
      },
      "source": [
        "def true_class(org, dup):\n",
        "  '''returns true if org and dup are true pair\n",
        "  false otherwise'''\n",
        "  if links[org] == dup:\n",
        "    return True\n",
        "  else:\n",
        "     return False\n",
        "     \n",
        "# add true label column to dataframe\n",
        "true_list = []\n",
        "for org, dup in df_compare.index:\n",
        "  true_list.append(true_class(org, dup))\n",
        "df_compare['true_class'] = true_list"
      ],
      "execution_count": 12,
      "outputs": []
    },
    {
      "cell_type": "code",
      "metadata": {
        "id": "VzOJVHVC3qdE"
      },
      "source": [
        "# randomly select n rows from 1,317,575 row df_compare\n",
        "# ensure there is at least 1 match\n",
        "n=200\n",
        "while True:\n",
        "  X_train = df_compare.sample(n=n)\n",
        "  y_train = X_train['true_class']\n",
        "  if np.sum(y_train) > 0:\n",
        "    break\n",
        "X_train = X_train.drop('true_class', axis=1)\n",
        "\n",
        "X_test = df_compare.drop(X_train.index, axis=0)\n",
        "y_test = X_test['true_class']\n",
        "X_test = X_test.drop('true_class', axis=1)\n",
        "\n",
        "# check that rows add up and that X_train index not in X_test\n",
        "assert X_train.shape[0] + X_test.shape[0] == df_compare.shape[0]\n",
        "assert X_train.index[np.random.randint(n)] not in X_test.index"
      ],
      "execution_count": 14,
      "outputs": []
    },
    {
      "cell_type": "code",
      "metadata": {
        "colab": {
          "base_uri": "https://localhost:8080/"
        },
        "id": "fnIgjf53eOks",
        "outputId": "594fbd12-7ab4-4d94-8e3f-8882a93d36d6"
      },
      "source": [
        "# test rule based approach (score are ONLY WITHIN BLOCKING!)\n",
        "# note: accuracy, precision and recall are all measured only considering\n",
        "# the matches that ended up in the same block\n",
        "# this is because currently we are just trying to work on the classifier\n",
        "# investigating blocking strategies is a next step\n",
        "f1_list = []\n",
        "for thresh in np.linspace(0,4, 41):\n",
        "  df_train = X_train.copy()\n",
        "  df_train['pred_class'] = df_train[[col for col in df_train.columns \n",
        "                                             if col != 'true_class']].sum(axis=1).values > thresh\n",
        "\n",
        "  f1_list.append((f1_score(y_train, df_train['pred_class']), thresh))\n",
        "\n",
        "thresh_best = sorted(f1_list, key=lambda x: x[0])[-1][1]\n",
        "\n",
        "df_test = X_test.copy()\n",
        "df_test['pred_class'] = df_test[[col for col in df_test.columns \n",
        "                                            if col != 'true_class']].sum(axis=1).values > thresh_best\n",
        "print('thresh: ', thresh_best)\n",
        "print('accuracy: ', accuracy_score(y_test, df_test['pred_class']))\n",
        "print('recall: ',recall_score(y_test, df_test['pred_class']))\n",
        "print('precision: ', precision_score(y_test, df_test['pred_class']))"
      ],
      "execution_count": 17,
      "outputs": [
        {
          "output_type": "stream",
          "text": [
            "thresh:  2.8000000000000003\n",
            "accuracy:  0.9980445962615049\n",
            "recall:  0.7136761992619927\n",
            "precision:  0.9851957975167144\n"
          ],
          "name": "stdout"
        }
      ]
    },
    {
      "cell_type": "code",
      "metadata": {
        "id": "kAqSQBCI3vPZ"
      },
      "source": [
        "lr = LogisticRegression(penalty='l2')\n",
        "AL = ActiveLearner(df_org, df_dup, X_train, y_train, X_test, lr, 1000, 10)"
      ],
      "execution_count": 20,
      "outputs": []
    },
    {
      "cell_type": "code",
      "metadata": {
        "colab": {
          "base_uri": "https://localhost:8080/"
        },
        "id": "lANyKyNRC4S1",
        "outputId": "8be3864c-47e0-4b3f-cc91-265f20f38888"
      },
      "source": [
        "AL.train()"
      ],
      "execution_count": 27,
      "outputs": [
        {
          "output_type": "stream",
          "text": [
            "pre train\n",
            " training data shape:  (220, 3)\n",
            " training labels shape:  (220,)\n",
            " unlabeled data shape:  (1317355, 3)\n",
            "post train\n",
            " training data shape:  (1220, 3)\n",
            " training labels shape:  (1220,)\n",
            " unlabeled data shape:  (1316355, 3)\n"
          ],
          "name": "stdout"
        }
      ]
    },
    {
      "cell_type": "code",
      "metadata": {
        "colab": {
          "base_uri": "https://localhost:8080/"
        },
        "id": "6H4nsMXcfsiR",
        "outputId": "12d460fb-cc98-4fd4-a303-cb9d745c036c"
      },
      "source": [
        "# note: accuracy, precision and recall are all measured only considering\n",
        "# the matches that ended up in the same block\n",
        "# this is because currently we are just trying to work on the classifier\n",
        "# investigating blocking strategies is a next step\n",
        "y_pred = AL.model.predict(AL.X_nolabel)\n",
        "y_true = [true_class(org, dup) for org, dup in AL.X_nolabel.index]\n",
        "print('accuracy', accuracy_score(y_pred, y_true))\n",
        "print('recall', recall_score(y_true, y_pred))\n",
        "print('precision', precision_score(y_true, y_pred))"
      ],
      "execution_count": 29,
      "outputs": [
        {
          "output_type": "stream",
          "text": [
            "accuracy 0.9997531061149918\n",
            "recall 0.977911414363363\n",
            "precision 0.9844004656577415\n"
          ],
          "name": "stdout"
        }
      ]
    },
    {
      "cell_type": "code",
      "metadata": {
        "colab": {
          "base_uri": "https://localhost:8080/",
          "height": 1000
        },
        "id": "CfX0H0I9Fo5I",
        "outputId": "aea0f71d-12e8-4be2-a16a-8be84812c3fd"
      },
      "source": [
        "AL.clerical_review()"
      ],
      "execution_count": 26,
      "outputs": [
        {
          "output_type": "display_data",
          "data": {
            "text/html": [
              "<div>\n",
              "<style scoped>\n",
              "    .dataframe tbody tr th:only-of-type {\n",
              "        vertical-align: middle;\n",
              "    }\n",
              "\n",
              "    .dataframe tbody tr th {\n",
              "        vertical-align: top;\n",
              "    }\n",
              "\n",
              "    .dataframe thead th {\n",
              "        text-align: right;\n",
              "    }\n",
              "</style>\n",
              "<table border=\"1\" class=\"dataframe\">\n",
              "  <thead>\n",
              "    <tr style=\"text-align: right;\">\n",
              "      <th></th>\n",
              "      <th>first</th>\n",
              "      <th>last</th>\n",
              "      <th>address</th>\n",
              "      <th>city</th>\n",
              "    </tr>\n",
              "  </thead>\n",
              "  <tbody>\n",
              "    <tr>\n",
              "      <th>b3175</th>\n",
              "      <td>ALLEN</td>\n",
              "      <td>JERRY</td>\n",
              "      <td>3122  BRYCEWOOD PL</td>\n",
              "      <td>BURLINGTON</td>\n",
              "    </tr>\n",
              "    <tr>\n",
              "      <th>a3175_0</th>\n",
              "      <td>ALLEN</td>\n",
              "      <td>JoERRY</td>\n",
              "      <td>3122x BRYCEWOOD PL</td>\n",
              "      <td>BURLINTON</td>\n",
              "    </tr>\n",
              "  </tbody>\n",
              "</table>\n",
              "</div>"
            ],
            "text/plain": [
              "         first    last                address        city\n",
              "b3175    ALLEN   JERRY  3122  BRYCEWOOD PL     BURLINGTON\n",
              "a3175_0  ALLEN  JoERRY  3122x BRYCEWOOD PL      BURLINTON"
            ]
          },
          "metadata": {
            "tags": []
          }
        },
        {
          "output_type": "stream",
          "text": [
            "Enter label (True/False) :True\n"
          ],
          "name": "stdout"
        },
        {
          "output_type": "display_data",
          "data": {
            "text/html": [
              "<div>\n",
              "<style scoped>\n",
              "    .dataframe tbody tr th:only-of-type {\n",
              "        vertical-align: middle;\n",
              "    }\n",
              "\n",
              "    .dataframe tbody tr th {\n",
              "        vertical-align: top;\n",
              "    }\n",
              "\n",
              "    .dataframe thead th {\n",
              "        text-align: right;\n",
              "    }\n",
              "</style>\n",
              "<table border=\"1\" class=\"dataframe\">\n",
              "  <thead>\n",
              "    <tr style=\"text-align: right;\">\n",
              "      <th></th>\n",
              "      <th>first</th>\n",
              "      <th>last</th>\n",
              "      <th>address</th>\n",
              "      <th>city</th>\n",
              "    </tr>\n",
              "  </thead>\n",
              "  <tbody>\n",
              "    <tr>\n",
              "      <th>b5867</th>\n",
              "      <td>FRANCES</td>\n",
              "      <td>CHRISTINE</td>\n",
              "      <td>3134  TRUITT DR</td>\n",
              "      <td>BURLINGTON</td>\n",
              "    </tr>\n",
              "    <tr>\n",
              "      <th>a5867_0</th>\n",
              "      <td>FRANES</td>\n",
              "      <td>CHRISINE</td>\n",
              "      <td>3134  TRUITTtDR</td>\n",
              "      <td>BURLINwGTON</td>\n",
              "    </tr>\n",
              "  </tbody>\n",
              "</table>\n",
              "</div>"
            ],
            "text/plain": [
              "           first       last             address         city\n",
              "b5867    FRANCES  CHRISTINE  3134  TRUITT DR      BURLINGTON\n",
              "a5867_0   FRANES   CHRISINE  3134  TRUITTtDR     BURLINwGTON"
            ]
          },
          "metadata": {
            "tags": []
          }
        },
        {
          "output_type": "stream",
          "text": [
            "Enter label (True/False) :True\n"
          ],
          "name": "stdout"
        },
        {
          "output_type": "display_data",
          "data": {
            "text/html": [
              "<div>\n",
              "<style scoped>\n",
              "    .dataframe tbody tr th:only-of-type {\n",
              "        vertical-align: middle;\n",
              "    }\n",
              "\n",
              "    .dataframe tbody tr th {\n",
              "        vertical-align: top;\n",
              "    }\n",
              "\n",
              "    .dataframe thead th {\n",
              "        text-align: right;\n",
              "    }\n",
              "</style>\n",
              "<table border=\"1\" class=\"dataframe\">\n",
              "  <thead>\n",
              "    <tr style=\"text-align: right;\">\n",
              "      <th></th>\n",
              "      <th>first</th>\n",
              "      <th>last</th>\n",
              "      <th>address</th>\n",
              "      <th>city</th>\n",
              "    </tr>\n",
              "  </thead>\n",
              "  <tbody>\n",
              "    <tr>\n",
              "      <th>b8108</th>\n",
              "      <td>ZIMMERMAN</td>\n",
              "      <td>DOROTHY</td>\n",
              "      <td>4841  UNION RIDGE RD</td>\n",
              "      <td>BURLINGTON</td>\n",
              "    </tr>\n",
              "    <tr>\n",
              "      <th>a8108_0</th>\n",
              "      <td>ZIMMEMAN</td>\n",
              "      <td>DOROTpHY</td>\n",
              "      <td>4841  UNION RIDGEdRD</td>\n",
              "      <td>BURINGTON</td>\n",
              "    </tr>\n",
              "  </tbody>\n",
              "</table>\n",
              "</div>"
            ],
            "text/plain": [
              "             first      last                  address        city\n",
              "b8108    ZIMMERMAN   DOROTHY  4841  UNION RIDGE RD     BURLINGTON\n",
              "a8108_0   ZIMMEMAN  DOROTpHY  4841  UNION RIDGEdRD      BURINGTON"
            ]
          },
          "metadata": {
            "tags": []
          }
        },
        {
          "output_type": "stream",
          "text": [
            "Enter label (True/False) :True\n"
          ],
          "name": "stdout"
        },
        {
          "output_type": "display_data",
          "data": {
            "text/html": [
              "<div>\n",
              "<style scoped>\n",
              "    .dataframe tbody tr th:only-of-type {\n",
              "        vertical-align: middle;\n",
              "    }\n",
              "\n",
              "    .dataframe tbody tr th {\n",
              "        vertical-align: top;\n",
              "    }\n",
              "\n",
              "    .dataframe thead th {\n",
              "        text-align: right;\n",
              "    }\n",
              "</style>\n",
              "<table border=\"1\" class=\"dataframe\">\n",
              "  <thead>\n",
              "    <tr style=\"text-align: right;\">\n",
              "      <th></th>\n",
              "      <th>first</th>\n",
              "      <th>last</th>\n",
              "      <th>address</th>\n",
              "      <th>city</th>\n",
              "    </tr>\n",
              "  </thead>\n",
              "  <tbody>\n",
              "    <tr>\n",
              "      <th>b5610</th>\n",
              "      <td>LAWRENCE</td>\n",
              "      <td>BENJAMIN</td>\n",
              "      <td>1528  OVERBROOK RD</td>\n",
              "      <td>BURLINGTON</td>\n",
              "    </tr>\n",
              "    <tr>\n",
              "      <th>a5610_0</th>\n",
              "      <td>LAWRNECE</td>\n",
              "      <td>BENJAMcIN</td>\n",
              "      <td>1528  OVERBRuOK RD</td>\n",
              "      <td>BURINGTON</td>\n",
              "    </tr>\n",
              "  </tbody>\n",
              "</table>\n",
              "</div>"
            ],
            "text/plain": [
              "            first       last                address        city\n",
              "b5610    LAWRENCE   BENJAMIN  1528  OVERBROOK RD     BURLINGTON\n",
              "a5610_0  LAWRNECE  BENJAMcIN  1528  OVERBRuOK RD      BURINGTON"
            ]
          },
          "metadata": {
            "tags": []
          }
        },
        {
          "output_type": "stream",
          "text": [
            "Enter label (True/False) :True\n"
          ],
          "name": "stdout"
        },
        {
          "output_type": "display_data",
          "data": {
            "text/html": [
              "<div>\n",
              "<style scoped>\n",
              "    .dataframe tbody tr th:only-of-type {\n",
              "        vertical-align: middle;\n",
              "    }\n",
              "\n",
              "    .dataframe tbody tr th {\n",
              "        vertical-align: top;\n",
              "    }\n",
              "\n",
              "    .dataframe thead th {\n",
              "        text-align: right;\n",
              "    }\n",
              "</style>\n",
              "<table border=\"1\" class=\"dataframe\">\n",
              "  <thead>\n",
              "    <tr style=\"text-align: right;\">\n",
              "      <th></th>\n",
              "      <th>first</th>\n",
              "      <th>last</th>\n",
              "      <th>address</th>\n",
              "      <th>city</th>\n",
              "    </tr>\n",
              "  </thead>\n",
              "  <tbody>\n",
              "    <tr>\n",
              "      <th>b5059</th>\n",
              "      <td>ANNETTE</td>\n",
              "      <td>CHRISTINE</td>\n",
              "      <td>1616  TROLLINGWOOD RD   #9</td>\n",
              "      <td>HAW RIVER</td>\n",
              "    </tr>\n",
              "    <tr>\n",
              "      <th>a5059_0</th>\n",
              "      <td>ANNETE</td>\n",
              "      <td>CHRISTcINE</td>\n",
              "      <td>1616  TROLLIhGWOOD RD   #9</td>\n",
              "      <td>HAW RIeVER</td>\n",
              "    </tr>\n",
              "  </tbody>\n",
              "</table>\n",
              "</div>"
            ],
            "text/plain": [
              "           first        last                     address        city\n",
              "b5059    ANNETTE   CHRISTINE  1616  TROLLINGWOOD RD   #9   HAW RIVER\n",
              "a5059_0   ANNETE  CHRISTcINE  1616  TROLLIhGWOOD RD   #9  HAW RIeVER"
            ]
          },
          "metadata": {
            "tags": []
          }
        },
        {
          "output_type": "stream",
          "text": [
            "Enter label (True/False) :True\n"
          ],
          "name": "stdout"
        },
        {
          "output_type": "display_data",
          "data": {
            "text/html": [
              "<div>\n",
              "<style scoped>\n",
              "    .dataframe tbody tr th:only-of-type {\n",
              "        vertical-align: middle;\n",
              "    }\n",
              "\n",
              "    .dataframe tbody tr th {\n",
              "        vertical-align: top;\n",
              "    }\n",
              "\n",
              "    .dataframe thead th {\n",
              "        text-align: right;\n",
              "    }\n",
              "</style>\n",
              "<table border=\"1\" class=\"dataframe\">\n",
              "  <thead>\n",
              "    <tr style=\"text-align: right;\">\n",
              "      <th></th>\n",
              "      <th>first</th>\n",
              "      <th>last</th>\n",
              "      <th>address</th>\n",
              "      <th>city</th>\n",
              "    </tr>\n",
              "  </thead>\n",
              "  <tbody>\n",
              "    <tr>\n",
              "      <th>b9203</th>\n",
              "      <td>CONNER</td>\n",
              "      <td>PHYLLIS</td>\n",
              "      <td>4233  ROBERT L BROOKS LN</td>\n",
              "      <td>BURLINGTON</td>\n",
              "    </tr>\n",
              "    <tr>\n",
              "      <th>a9203_0</th>\n",
              "      <td>CONNER</td>\n",
              "      <td>PHYLbLIS</td>\n",
              "      <td>4233  RBERT L BROOKS LN</td>\n",
              "      <td>BzRLINGTON</td>\n",
              "    </tr>\n",
              "  </tbody>\n",
              "</table>\n",
              "</div>"
            ],
            "text/plain": [
              "          first      last                      address        city\n",
              "b9203    CONNER   PHYLLIS  4233  ROBERT L BROOKS LN     BURLINGTON\n",
              "a9203_0  CONNER  PHYLbLIS   4233  RBERT L BROOKS LN     BzRLINGTON"
            ]
          },
          "metadata": {
            "tags": []
          }
        },
        {
          "output_type": "stream",
          "text": [
            "Enter label (True/False) :True\n"
          ],
          "name": "stdout"
        },
        {
          "output_type": "display_data",
          "data": {
            "text/html": [
              "<div>\n",
              "<style scoped>\n",
              "    .dataframe tbody tr th:only-of-type {\n",
              "        vertical-align: middle;\n",
              "    }\n",
              "\n",
              "    .dataframe tbody tr th {\n",
              "        vertical-align: top;\n",
              "    }\n",
              "\n",
              "    .dataframe thead th {\n",
              "        text-align: right;\n",
              "    }\n",
              "</style>\n",
              "<table border=\"1\" class=\"dataframe\">\n",
              "  <thead>\n",
              "    <tr style=\"text-align: right;\">\n",
              "      <th></th>\n",
              "      <th>first</th>\n",
              "      <th>last</th>\n",
              "      <th>address</th>\n",
              "      <th>city</th>\n",
              "    </tr>\n",
              "  </thead>\n",
              "  <tbody>\n",
              "    <tr>\n",
              "      <th>b94</th>\n",
              "      <td>MELINDAMAJID</td>\n",
              "      <td>YASMEEN</td>\n",
              "      <td>1528 S MEBANE ST   #603</td>\n",
              "      <td>BURLINGTON</td>\n",
              "    </tr>\n",
              "    <tr>\n",
              "      <th>a94_0</th>\n",
              "      <td>MEINDAMAJID</td>\n",
              "      <td>YASMEkEN</td>\n",
              "      <td>1528 S MEaANE ST   #603</td>\n",
              "      <td>BURLNGTON</td>\n",
              "    </tr>\n",
              "  </tbody>\n",
              "</table>\n",
              "</div>"
            ],
            "text/plain": [
              "              first      last                  address        city\n",
              "b94    MELINDAMAJID   YASMEEN  1528 S MEBANE ST   #603  BURLINGTON\n",
              "a94_0   MEINDAMAJID  YASMEkEN  1528 S MEaANE ST   #603   BURLNGTON"
            ]
          },
          "metadata": {
            "tags": []
          }
        },
        {
          "output_type": "stream",
          "text": [
            "Enter label (True/False) :True\n"
          ],
          "name": "stdout"
        },
        {
          "output_type": "display_data",
          "data": {
            "text/html": [
              "<div>\n",
              "<style scoped>\n",
              "    .dataframe tbody tr th:only-of-type {\n",
              "        vertical-align: middle;\n",
              "    }\n",
              "\n",
              "    .dataframe tbody tr th {\n",
              "        vertical-align: top;\n",
              "    }\n",
              "\n",
              "    .dataframe thead th {\n",
              "        text-align: right;\n",
              "    }\n",
              "</style>\n",
              "<table border=\"1\" class=\"dataframe\">\n",
              "  <thead>\n",
              "    <tr style=\"text-align: right;\">\n",
              "      <th></th>\n",
              "      <th>first</th>\n",
              "      <th>last</th>\n",
              "      <th>address</th>\n",
              "      <th>city</th>\n",
              "    </tr>\n",
              "  </thead>\n",
              "  <tbody>\n",
              "    <tr>\n",
              "      <th>b2991</th>\n",
              "      <td>JOHNSTON</td>\n",
              "      <td>JENNIFER</td>\n",
              "      <td>1139  KELSO LN</td>\n",
              "      <td>BURLINGTON</td>\n",
              "    </tr>\n",
              "    <tr>\n",
              "      <th>a2991_0</th>\n",
              "      <td>JOHNSTN</td>\n",
              "      <td>JENNzIFER</td>\n",
              "      <td>1139  KELSO LNs</td>\n",
              "      <td>BURLfINGTON</td>\n",
              "    </tr>\n",
              "  </tbody>\n",
              "</table>\n",
              "</div>"
            ],
            "text/plain": [
              "            first       last            address         city\n",
              "b2991    JOHNSTON   JENNIFER  1139  KELSO LN      BURLINGTON\n",
              "a2991_0   JOHNSTN  JENNzIFER  1139  KELSO LNs    BURLfINGTON"
            ]
          },
          "metadata": {
            "tags": []
          }
        },
        {
          "output_type": "stream",
          "text": [
            "Enter label (True/False) :True\n"
          ],
          "name": "stdout"
        },
        {
          "output_type": "display_data",
          "data": {
            "text/html": [
              "<div>\n",
              "<style scoped>\n",
              "    .dataframe tbody tr th:only-of-type {\n",
              "        vertical-align: middle;\n",
              "    }\n",
              "\n",
              "    .dataframe tbody tr th {\n",
              "        vertical-align: top;\n",
              "    }\n",
              "\n",
              "    .dataframe thead th {\n",
              "        text-align: right;\n",
              "    }\n",
              "</style>\n",
              "<table border=\"1\" class=\"dataframe\">\n",
              "  <thead>\n",
              "    <tr style=\"text-align: right;\">\n",
              "      <th></th>\n",
              "      <th>first</th>\n",
              "      <th>last</th>\n",
              "      <th>address</th>\n",
              "      <th>city</th>\n",
              "    </tr>\n",
              "  </thead>\n",
              "  <tbody>\n",
              "    <tr>\n",
              "      <th>b2780</th>\n",
              "      <td>LOVRRICK</td>\n",
              "      <td>MICHAEL</td>\n",
              "      <td>1205  WHITSETT ST</td>\n",
              "      <td>BURLINGTON</td>\n",
              "    </tr>\n",
              "    <tr>\n",
              "      <th>a2780_0</th>\n",
              "      <td>LOVRRICK</td>\n",
              "      <td>uMICHAEL</td>\n",
              "      <td>1205  WHITSlTT ST</td>\n",
              "      <td>BURINGTON</td>\n",
              "    </tr>\n",
              "  </tbody>\n",
              "</table>\n",
              "</div>"
            ],
            "text/plain": [
              "            first      last               address        city\n",
              "b2780    LOVRRICK   MICHAEL  1205  WHITSETT ST     BURLINGTON\n",
              "a2780_0  LOVRRICK  uMICHAEL  1205  WHITSlTT ST      BURINGTON"
            ]
          },
          "metadata": {
            "tags": []
          }
        },
        {
          "output_type": "stream",
          "text": [
            "Enter label (True/False) :True\n"
          ],
          "name": "stdout"
        },
        {
          "output_type": "display_data",
          "data": {
            "text/html": [
              "<div>\n",
              "<style scoped>\n",
              "    .dataframe tbody tr th:only-of-type {\n",
              "        vertical-align: middle;\n",
              "    }\n",
              "\n",
              "    .dataframe tbody tr th {\n",
              "        vertical-align: top;\n",
              "    }\n",
              "\n",
              "    .dataframe thead th {\n",
              "        text-align: right;\n",
              "    }\n",
              "</style>\n",
              "<table border=\"1\" class=\"dataframe\">\n",
              "  <thead>\n",
              "    <tr style=\"text-align: right;\">\n",
              "      <th></th>\n",
              "      <th>first</th>\n",
              "      <th>last</th>\n",
              "      <th>address</th>\n",
              "      <th>city</th>\n",
              "    </tr>\n",
              "  </thead>\n",
              "  <tbody>\n",
              "    <tr>\n",
              "      <th>b4427</th>\n",
              "      <td>LATTA</td>\n",
              "      <td>CORINNE</td>\n",
              "      <td>606  GEORGIA AVE</td>\n",
              "      <td>BURLINGTON</td>\n",
              "    </tr>\n",
              "    <tr>\n",
              "      <th>a4427_0</th>\n",
              "      <td>LATTA</td>\n",
              "      <td>CcORINNE</td>\n",
              "      <td>606  GbORGIA AVE</td>\n",
              "      <td>BRLINGTON</td>\n",
              "    </tr>\n",
              "  </tbody>\n",
              "</table>\n",
              "</div>"
            ],
            "text/plain": [
              "         first      last              address        city\n",
              "b4427    LATTA   CORINNE  606  GEORGIA AVE     BURLINGTON\n",
              "a4427_0  LATTA  CcORINNE  606  GbORGIA AVE      BRLINGTON"
            ]
          },
          "metadata": {
            "tags": []
          }
        },
        {
          "output_type": "stream",
          "text": [
            "Enter label (True/False) :True\n",
            "all data labeled\n"
          ],
          "name": "stdout"
        }
      ]
    },
    {
      "cell_type": "code",
      "metadata": {
        "id": "BkUxRIIfGSrN"
      },
      "source": [
        ""
      ],
      "execution_count": null,
      "outputs": []
    }
  ]
}