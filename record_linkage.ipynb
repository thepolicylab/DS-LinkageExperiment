{
  "nbformat": 4,
  "nbformat_minor": 0,
  "metadata": {
    "colab": {
      "name": "record_linkage.ipynb",
      "provenance": []
    },
    "kernelspec": {
      "name": "python3",
      "display_name": "Python 3"
    },
    "language_info": {
      "name": "python"
    }
  },
  "cells": [
    {
      "cell_type": "code",
      "metadata": {
        "id": "klFaQYU94OUd"
      },
      "source": [
        "# !pip install recordlinkage"
      ],
      "execution_count": 2,
      "outputs": []
    },
    {
      "cell_type": "code",
      "metadata": {
        "id": "dK1jN7FTkh1x"
      },
      "source": [
        "import recordlinkage\n",
        "import pandas as pd\n",
        "from collections import defaultdict\n",
        "from matplotlib import pyplot as plt\n",
        "import plotly.express as px\n",
        "from sklearn.metrics import accuracy_score, recall_score, precision_score, f1_score\n",
        "import numpy as np\n",
        "from sklearn.linear_model import LogisticRegression\n",
        "from ensemble import ActiveLearner\n",
        "import recordlinkage.datasets as rl_data"
      ],
      "execution_count": 3,
      "outputs": []
    },
    {
      "cell_type": "code",
      "metadata": {
        "id": "l73NOYkXkyNv"
      },
      "source": [
        "data = rl_data.load_febrl4(return_links=True)\n",
        "df_org, df_dup, df_links = data[0], data[1], data[2]"
      ],
      "execution_count": 6,
      "outputs": []
    },
    {
      "cell_type": "code",
      "metadata": {
        "id": "tqhsJriexIO5"
      },
      "source": [
        "# create dict of true links\n",
        "def def_value():\n",
        "    return \"Not Present\"\n",
        "      \n",
        "links = defaultdict(def_value)\n",
        "\n",
        "for org, dup in df_links:\n",
        "  links[org] = dup"
      ],
      "execution_count": 7,
      "outputs": []
    },
    {
      "cell_type": "code",
      "metadata": {
        "id": "K2k4-OKpmYad"
      },
      "source": [
        "# create indices to compare and set blocking  variable\n",
        "indexer = recordlinkage.Index()\n",
        "indexer.block(left_on='postcode', right_on='postcode')\n",
        "candidate_pairs = indexer.index(df_org, df_dup)"
      ],
      "execution_count": 8,
      "outputs": []
    },
    {
      "cell_type": "code",
      "metadata": {
        "id": "gN_mEfHqmtEg"
      },
      "source": [
        "# initialise class\n",
        "comp = recordlinkage.Compare()\n",
        "\n",
        "# initialise similarity measurement algorithms\n",
        "comp.string('given_name', 'given_name', method='jarowinkler')\n",
        "comp.string('surname', 'surname', method='jarowinkler')\n",
        "comp.exact('street_number', 'street_number')\n",
        "comp.string('address_1', 'address_1', method='jarowinkler')\n",
        "comp.string('address_2', 'address_2', method='jarowinkler')\n",
        "comp.string('suburb', 'suburb', method='jarowinkler')\n",
        "# comp.string('postcode', 'postcode', method='jarowinkler')\n",
        "comp.string('state', 'state', method='jarowinkler')\n",
        "comp.string('date_of_birth', 'date_of_birth', method='jarowinkler')\n",
        "# comp.string('soc_sec_id', 'soc_sec_id', method='jarowinkler')\n",
        "\n",
        "# the method .compute() returns the DataFrame with the feature vectors.\n",
        "df_compare = comp.compute(candidate_pairs, df_org, df_dup)"
      ],
      "execution_count": 9,
      "outputs": []
    },
    {
      "cell_type": "code",
      "metadata": {
        "id": "ny3vtg3Tuk5j"
      },
      "source": [
        "def true_class(org, dup):\n",
        "  '''returns true if org and dup are true pair\n",
        "  false otherwise'''\n",
        "  if links[org] == dup:\n",
        "    return True\n",
        "  else:\n",
        "     return False\n",
        "     \n",
        "# add true label column to dataframe\n",
        "df_compare['true_class'] = [true_class(org, dup) for org, dup in df_compare.index]"
      ],
      "execution_count": 10,
      "outputs": []
    },
    {
      "cell_type": "code",
      "metadata": {
        "id": "RAepu5As4jUT"
      },
      "source": [
        "n=50\n",
        "while True:\n",
        "  X_train = df_compare.sample(n=n)\n",
        "  y_train = X_train['true_class']\n",
        "  if np.sum(y_train) > 0:\n",
        "    break\n",
        "X_train = X_train.drop('true_class', axis=1)\n",
        "\n",
        "X_test = df_compare.drop(X_train.index, axis=0)\n",
        "y_test = X_test['true_class']\n",
        "X_test = X_test.drop('true_class', axis=1)\n",
        "\n",
        "# check that rows add up and that X_train index not in X_test\n",
        "assert X_train.shape[0] + X_test.shape[0] == df_compare.shape[0]\n",
        "assert X_train.index[np.random.randint(n)] not in X_test.index"
      ],
      "execution_count": 11,
      "outputs": []
    },
    {
      "cell_type": "code",
      "metadata": {
        "colab": {
          "base_uri": "https://localhost:8080/"
        },
        "id": "QvIRvJ083LIe",
        "outputId": "d94c0cd9-0778-44ef-ede2-d97096b181ab"
      },
      "source": [
        "# test rule based approach (score are ONLY WITHIN BLOCKING!)\n",
        "f1_list = []\n",
        "for thresh in np.linspace(0,10, 101):\n",
        "  df_train = X_train.copy()\n",
        "  df_train['pred_class'] = df_train[[col for col in df_train.columns \n",
        "                                             if col != 'true_class']].sum(axis=1).values > thresh\n",
        "\n",
        "  f1_list.append((f1_score(y_train, df_train['pred_class']), thresh))\n",
        "\n",
        "thresh_best = sorted(f1_list, key=lambda x: x[0])[-1][1]\n",
        "\n",
        "df_test = X_test.copy()\n",
        "df_test['pred_class'] = df_test[[col for col in df_test.columns \n",
        "                                            if col != 'true_class']].sum(axis=1).values > thresh_best\n",
        "print('thresh: ', thresh_best)\n",
        "print('accuracy: ', accuracy_score(y_test, df_test['pred_class']))\n",
        "#print('fscore', f1_score(y_train, df_train['pred_class']))\n",
        "print('recall: ',recall_score(y_test, df_test['pred_class']))\n",
        "print('precision: ', precision_score(y_test, df_test['pred_class']))"
      ],
      "execution_count": 12,
      "outputs": [
        {
          "output_type": "stream",
          "text": [
            "thresh:  6.5\n",
            "accuracy:  0.9692916418642109\n",
            "recall:  0.7918347970567292\n",
            "precision:  1.0\n"
          ],
          "name": "stdout"
        }
      ]
    },
    {
      "cell_type": "code",
      "metadata": {
        "id": "Jv054csn_hGI"
      },
      "source": [
        "# the classes are relatively separable just from summing the distance measures\n",
        "# df_test = X_test.copy()\n",
        "# df_test['sum'] = df_test[[col for col in df_test.columns \n",
        "#                                            if col != 'true_class']].sum(axis=1).values\n",
        "# df_test['true_class'] = y_test\n",
        "\n",
        "# fig = px.violin(df_test, y=\"sum\", x=\"true_class\", color=\"true_class\", box=True, points=\"all\")\n",
        "# fig.show()"
      ],
      "execution_count": 12,
      "outputs": []
    },
    {
      "cell_type": "code",
      "metadata": {
        "id": "ruK-F1hf62EZ"
      },
      "source": [
        "lr = LogisticRegression(penalty='l2')\n",
        "AL = ActiveLearner(df_org, df_dup, X_train, y_train, X_test, lr, 1000, 10)"
      ],
      "execution_count": 13,
      "outputs": []
    },
    {
      "cell_type": "code",
      "metadata": {
        "colab": {
          "base_uri": "https://localhost:8080/"
        },
        "id": "AbAP55vV75ip",
        "outputId": "a0a2f599-913a-4880-8a29-42faa37718c2"
      },
      "source": [
        "AL.train()"
      ],
      "execution_count": 17,
      "outputs": [
        {
          "output_type": "stream",
          "text": [
            "pre train\n",
            " training data shape:  (1060, 8)\n",
            " training labels shape:  (1060,)\n",
            " unlabeled data shape:  (27549, 8)\n",
            "post train\n",
            " training data shape:  (2060, 8)\n",
            " training labels shape:  (2060,)\n",
            " unlabeled data shape:  (26549, 8)\n"
          ],
          "name": "stdout"
        }
      ]
    },
    {
      "cell_type": "code",
      "metadata": {
        "colab": {
          "base_uri": "https://localhost:8080/"
        },
        "id": "9n5Gcg0Se7t3",
        "outputId": "0b08ad48-92b2-419a-af95-66b7c7e9723c"
      },
      "source": [
        "y_pred = AL.model.predict(AL.X_nolabel)\n",
        "y_true = [true_class(org, dup) for org, dup in AL.X_nolabel.index]\n",
        "print('accuracy', accuracy_score(y_pred, y_true))\n",
        "print('recall', recall_score(y_true, y_pred))\n",
        "print('precision', precision_score(y_true, y_pred))"
      ],
      "execution_count": 18,
      "outputs": [
        {
          "output_type": "stream",
          "text": [
            "accuracy 0.994802064107876\n",
            "recall 0.9752712591471108\n",
            "precision 0.9897567221510883\n"
          ],
          "name": "stdout"
        }
      ]
    },
    {
      "cell_type": "code",
      "metadata": {
        "colab": {
          "base_uri": "https://localhost:8080/",
          "height": 1000
        },
        "id": "bJyDmDDA76jo",
        "outputId": "c20c92d3-8799-425d-eca9-6a28ba01322c"
      },
      "source": [
        "AL.clerical_review()"
      ],
      "execution_count": 16,
      "outputs": [
        {
          "output_type": "display_data",
          "data": {
            "text/html": [
              "<div>\n",
              "<style scoped>\n",
              "    .dataframe tbody tr th:only-of-type {\n",
              "        vertical-align: middle;\n",
              "    }\n",
              "\n",
              "    .dataframe tbody tr th {\n",
              "        vertical-align: top;\n",
              "    }\n",
              "\n",
              "    .dataframe thead th {\n",
              "        text-align: right;\n",
              "    }\n",
              "</style>\n",
              "<table border=\"1\" class=\"dataframe\">\n",
              "  <thead>\n",
              "    <tr style=\"text-align: right;\">\n",
              "      <th></th>\n",
              "      <th>given_name</th>\n",
              "      <th>surname</th>\n",
              "      <th>street_number</th>\n",
              "      <th>address_1</th>\n",
              "      <th>address_2</th>\n",
              "      <th>suburb</th>\n",
              "      <th>postcode</th>\n",
              "      <th>state</th>\n",
              "      <th>date_of_birth</th>\n",
              "      <th>soc_sec_id</th>\n",
              "    </tr>\n",
              "  </thead>\n",
              "  <tbody>\n",
              "    <tr>\n",
              "      <th>rec-3304-org</th>\n",
              "      <td>adam</td>\n",
              "      <td>pichugin</td>\n",
              "      <td>16</td>\n",
              "      <td>tiwi place</td>\n",
              "      <td>ettrick</td>\n",
              "      <td>yackandandah</td>\n",
              "      <td>3116</td>\n",
              "      <td>qld</td>\n",
              "      <td>19650328</td>\n",
              "      <td>1748977</td>\n",
              "    </tr>\n",
              "    <tr>\n",
              "      <th>rec-3304-dup-0</th>\n",
              "      <td>adam</td>\n",
              "      <td>coulls</td>\n",
              "      <td>41</td>\n",
              "      <td>tiwi place</td>\n",
              "      <td>ettrick</td>\n",
              "      <td>yacknadandah</td>\n",
              "      <td>3116</td>\n",
              "      <td>qld</td>\n",
              "      <td>19650328</td>\n",
              "      <td>1748977</td>\n",
              "    </tr>\n",
              "  </tbody>\n",
              "</table>\n",
              "</div>"
            ],
            "text/plain": [
              "               given_name   surname  ... date_of_birth soc_sec_id\n",
              "rec-3304-org         adam  pichugin  ...      19650328    1748977\n",
              "rec-3304-dup-0       adam    coulls  ...      19650328    1748977\n",
              "\n",
              "[2 rows x 10 columns]"
            ]
          },
          "metadata": {
            "tags": []
          }
        },
        {
          "output_type": "stream",
          "text": [
            "Enter label (True/False) :True\n"
          ],
          "name": "stdout"
        },
        {
          "output_type": "display_data",
          "data": {
            "text/html": [
              "<div>\n",
              "<style scoped>\n",
              "    .dataframe tbody tr th:only-of-type {\n",
              "        vertical-align: middle;\n",
              "    }\n",
              "\n",
              "    .dataframe tbody tr th {\n",
              "        vertical-align: top;\n",
              "    }\n",
              "\n",
              "    .dataframe thead th {\n",
              "        text-align: right;\n",
              "    }\n",
              "</style>\n",
              "<table border=\"1\" class=\"dataframe\">\n",
              "  <thead>\n",
              "    <tr style=\"text-align: right;\">\n",
              "      <th></th>\n",
              "      <th>given_name</th>\n",
              "      <th>surname</th>\n",
              "      <th>street_number</th>\n",
              "      <th>address_1</th>\n",
              "      <th>address_2</th>\n",
              "      <th>suburb</th>\n",
              "      <th>postcode</th>\n",
              "      <th>state</th>\n",
              "      <th>date_of_birth</th>\n",
              "      <th>soc_sec_id</th>\n",
              "    </tr>\n",
              "  </thead>\n",
              "  <tbody>\n",
              "    <tr>\n",
              "      <th>rec-4216-org</th>\n",
              "      <td>lauren</td>\n",
              "      <td>harrington</td>\n",
              "      <td>17</td>\n",
              "      <td>leibnitz place</td>\n",
              "      <td>rosetta village</td>\n",
              "      <td>granville</td>\n",
              "      <td>6066</td>\n",
              "      <td>vic</td>\n",
              "      <td>19550719</td>\n",
              "      <td>2207203</td>\n",
              "    </tr>\n",
              "    <tr>\n",
              "      <th>rec-4216-dup-0</th>\n",
              "      <td>lauren</td>\n",
              "      <td>harrington</td>\n",
              "      <td>28</td>\n",
              "      <td>leibnitzplace</td>\n",
              "      <td>rosetta village</td>\n",
              "      <td>newcastle</td>\n",
              "      <td>6066</td>\n",
              "      <td>vic</td>\n",
              "      <td>19550719</td>\n",
              "      <td>2207203</td>\n",
              "    </tr>\n",
              "  </tbody>\n",
              "</table>\n",
              "</div>"
            ],
            "text/plain": [
              "               given_name     surname  ... date_of_birth soc_sec_id\n",
              "rec-4216-org       lauren  harrington  ...      19550719    2207203\n",
              "rec-4216-dup-0     lauren  harrington  ...      19550719    2207203\n",
              "\n",
              "[2 rows x 10 columns]"
            ]
          },
          "metadata": {
            "tags": []
          }
        },
        {
          "output_type": "stream",
          "text": [
            "Enter label (True/False) :True\n"
          ],
          "name": "stdout"
        },
        {
          "output_type": "display_data",
          "data": {
            "text/html": [
              "<div>\n",
              "<style scoped>\n",
              "    .dataframe tbody tr th:only-of-type {\n",
              "        vertical-align: middle;\n",
              "    }\n",
              "\n",
              "    .dataframe tbody tr th {\n",
              "        vertical-align: top;\n",
              "    }\n",
              "\n",
              "    .dataframe thead th {\n",
              "        text-align: right;\n",
              "    }\n",
              "</style>\n",
              "<table border=\"1\" class=\"dataframe\">\n",
              "  <thead>\n",
              "    <tr style=\"text-align: right;\">\n",
              "      <th></th>\n",
              "      <th>given_name</th>\n",
              "      <th>surname</th>\n",
              "      <th>street_number</th>\n",
              "      <th>address_1</th>\n",
              "      <th>address_2</th>\n",
              "      <th>suburb</th>\n",
              "      <th>postcode</th>\n",
              "      <th>state</th>\n",
              "      <th>date_of_birth</th>\n",
              "      <th>soc_sec_id</th>\n",
              "    </tr>\n",
              "  </thead>\n",
              "  <tbody>\n",
              "    <tr>\n",
              "      <th>rec-2772-org</th>\n",
              "      <td>william</td>\n",
              "      <td>george</td>\n",
              "      <td>31</td>\n",
              "      <td>kidman close</td>\n",
              "      <td>ocean breeze</td>\n",
              "      <td>labrador</td>\n",
              "      <td>3438</td>\n",
              "      <td>sa</td>\n",
              "      <td>19250214</td>\n",
              "      <td>9555232</td>\n",
              "    </tr>\n",
              "    <tr>\n",
              "      <th>rec-2772-dup-0</th>\n",
              "      <td>william</td>\n",
              "      <td>george</td>\n",
              "      <td>NaN</td>\n",
              "      <td>kidman pclose</td>\n",
              "      <td>ocean breeze</td>\n",
              "      <td>yambs</td>\n",
              "      <td>3438</td>\n",
              "      <td>sa</td>\n",
              "      <td>19250214</td>\n",
              "      <td>9555322</td>\n",
              "    </tr>\n",
              "  </tbody>\n",
              "</table>\n",
              "</div>"
            ],
            "text/plain": [
              "               given_name surname street_number  ... state date_of_birth soc_sec_id\n",
              "rec-2772-org      william  george            31  ...    sa      19250214    9555232\n",
              "rec-2772-dup-0    william  george           NaN  ...    sa      19250214    9555322\n",
              "\n",
              "[2 rows x 10 columns]"
            ]
          },
          "metadata": {
            "tags": []
          }
        },
        {
          "output_type": "stream",
          "text": [
            "Enter label (True/False) :True\n"
          ],
          "name": "stdout"
        },
        {
          "output_type": "display_data",
          "data": {
            "text/html": [
              "<div>\n",
              "<style scoped>\n",
              "    .dataframe tbody tr th:only-of-type {\n",
              "        vertical-align: middle;\n",
              "    }\n",
              "\n",
              "    .dataframe tbody tr th {\n",
              "        vertical-align: top;\n",
              "    }\n",
              "\n",
              "    .dataframe thead th {\n",
              "        text-align: right;\n",
              "    }\n",
              "</style>\n",
              "<table border=\"1\" class=\"dataframe\">\n",
              "  <thead>\n",
              "    <tr style=\"text-align: right;\">\n",
              "      <th></th>\n",
              "      <th>given_name</th>\n",
              "      <th>surname</th>\n",
              "      <th>street_number</th>\n",
              "      <th>address_1</th>\n",
              "      <th>address_2</th>\n",
              "      <th>suburb</th>\n",
              "      <th>postcode</th>\n",
              "      <th>state</th>\n",
              "      <th>date_of_birth</th>\n",
              "      <th>soc_sec_id</th>\n",
              "    </tr>\n",
              "  </thead>\n",
              "  <tbody>\n",
              "    <tr>\n",
              "      <th>rec-3784-org</th>\n",
              "      <td>connor</td>\n",
              "      <td>hammill</td>\n",
              "      <td>99</td>\n",
              "      <td>goyder street</td>\n",
              "      <td>burnside</td>\n",
              "      <td>angaston</td>\n",
              "      <td>2304</td>\n",
              "      <td>nsw</td>\n",
              "      <td>19700803</td>\n",
              "      <td>7089797</td>\n",
              "    </tr>\n",
              "    <tr>\n",
              "      <th>rec-3784-dup-0</th>\n",
              "      <td>connor</td>\n",
              "      <td>hammill</td>\n",
              "      <td>99</td>\n",
              "      <td>goyder street</td>\n",
              "      <td>NaN</td>\n",
              "      <td>angsgon</td>\n",
              "      <td>2304</td>\n",
              "      <td>nsw</td>\n",
              "      <td>NaN</td>\n",
              "      <td>7089797</td>\n",
              "    </tr>\n",
              "  </tbody>\n",
              "</table>\n",
              "</div>"
            ],
            "text/plain": [
              "               given_name  surname street_number  ... state date_of_birth soc_sec_id\n",
              "rec-3784-org       connor  hammill            99  ...   nsw      19700803    7089797\n",
              "rec-3784-dup-0     connor  hammill            99  ...   nsw           NaN    7089797\n",
              "\n",
              "[2 rows x 10 columns]"
            ]
          },
          "metadata": {
            "tags": []
          }
        },
        {
          "output_type": "stream",
          "text": [
            "Enter label (True/False) :True\n"
          ],
          "name": "stdout"
        },
        {
          "output_type": "display_data",
          "data": {
            "text/html": [
              "<div>\n",
              "<style scoped>\n",
              "    .dataframe tbody tr th:only-of-type {\n",
              "        vertical-align: middle;\n",
              "    }\n",
              "\n",
              "    .dataframe tbody tr th {\n",
              "        vertical-align: top;\n",
              "    }\n",
              "\n",
              "    .dataframe thead th {\n",
              "        text-align: right;\n",
              "    }\n",
              "</style>\n",
              "<table border=\"1\" class=\"dataframe\">\n",
              "  <thead>\n",
              "    <tr style=\"text-align: right;\">\n",
              "      <th></th>\n",
              "      <th>given_name</th>\n",
              "      <th>surname</th>\n",
              "      <th>street_number</th>\n",
              "      <th>address_1</th>\n",
              "      <th>address_2</th>\n",
              "      <th>suburb</th>\n",
              "      <th>postcode</th>\n",
              "      <th>state</th>\n",
              "      <th>date_of_birth</th>\n",
              "      <th>soc_sec_id</th>\n",
              "    </tr>\n",
              "  </thead>\n",
              "  <tbody>\n",
              "    <tr>\n",
              "      <th>rec-2354-org</th>\n",
              "      <td>connor</td>\n",
              "      <td>shepherd</td>\n",
              "      <td>7</td>\n",
              "      <td>bulloo place</td>\n",
              "      <td>NaN</td>\n",
              "      <td>kangaroo flat</td>\n",
              "      <td>4621</td>\n",
              "      <td>wa</td>\n",
              "      <td>19681115</td>\n",
              "      <td>1737778</td>\n",
              "    </tr>\n",
              "    <tr>\n",
              "      <th>rec-2354-dup-0</th>\n",
              "      <td>connor</td>\n",
              "      <td>shepherd</td>\n",
              "      <td>7</td>\n",
              "      <td>bulloo place</td>\n",
              "      <td>NaN</td>\n",
              "      <td>wyoming</td>\n",
              "      <td>4621</td>\n",
              "      <td>wa</td>\n",
              "      <td>19100906</td>\n",
              "      <td>1737778</td>\n",
              "    </tr>\n",
              "  </tbody>\n",
              "</table>\n",
              "</div>"
            ],
            "text/plain": [
              "               given_name   surname  ... date_of_birth soc_sec_id\n",
              "rec-2354-org       connor  shepherd  ...      19681115    1737778\n",
              "rec-2354-dup-0     connor  shepherd  ...      19100906    1737778\n",
              "\n",
              "[2 rows x 10 columns]"
            ]
          },
          "metadata": {
            "tags": []
          }
        },
        {
          "output_type": "stream",
          "text": [
            "Enter label (True/False) :True\n"
          ],
          "name": "stdout"
        },
        {
          "output_type": "display_data",
          "data": {
            "text/html": [
              "<div>\n",
              "<style scoped>\n",
              "    .dataframe tbody tr th:only-of-type {\n",
              "        vertical-align: middle;\n",
              "    }\n",
              "\n",
              "    .dataframe tbody tr th {\n",
              "        vertical-align: top;\n",
              "    }\n",
              "\n",
              "    .dataframe thead th {\n",
              "        text-align: right;\n",
              "    }\n",
              "</style>\n",
              "<table border=\"1\" class=\"dataframe\">\n",
              "  <thead>\n",
              "    <tr style=\"text-align: right;\">\n",
              "      <th></th>\n",
              "      <th>given_name</th>\n",
              "      <th>surname</th>\n",
              "      <th>street_number</th>\n",
              "      <th>address_1</th>\n",
              "      <th>address_2</th>\n",
              "      <th>suburb</th>\n",
              "      <th>postcode</th>\n",
              "      <th>state</th>\n",
              "      <th>date_of_birth</th>\n",
              "      <th>soc_sec_id</th>\n",
              "    </tr>\n",
              "  </thead>\n",
              "  <tbody>\n",
              "    <tr>\n",
              "      <th>rec-1053-org</th>\n",
              "      <td>jade</td>\n",
              "      <td>quast</td>\n",
              "      <td>4</td>\n",
              "      <td>hodgkinson street</td>\n",
              "      <td>raworth cottage medical practice</td>\n",
              "      <td>east ryde</td>\n",
              "      <td>6210</td>\n",
              "      <td>vic</td>\n",
              "      <td>19390121</td>\n",
              "      <td>5098690</td>\n",
              "    </tr>\n",
              "    <tr>\n",
              "      <th>rec-1053-dup-0</th>\n",
              "      <td>lkue</td>\n",
              "      <td>quast</td>\n",
              "      <td>4</td>\n",
              "      <td>NaN</td>\n",
              "      <td>raworth cottage meedical practice</td>\n",
              "      <td>east ryde</td>\n",
              "      <td>6210</td>\n",
              "      <td>vic</td>\n",
              "      <td>19760328</td>\n",
              "      <td>5098690</td>\n",
              "    </tr>\n",
              "  </tbody>\n",
              "</table>\n",
              "</div>"
            ],
            "text/plain": [
              "               given_name surname street_number  ... state date_of_birth soc_sec_id\n",
              "rec-1053-org         jade   quast             4  ...   vic      19390121    5098690\n",
              "rec-1053-dup-0       lkue   quast             4  ...   vic      19760328    5098690\n",
              "\n",
              "[2 rows x 10 columns]"
            ]
          },
          "metadata": {
            "tags": []
          }
        },
        {
          "output_type": "stream",
          "text": [
            "Enter label (True/False) :True\n"
          ],
          "name": "stdout"
        },
        {
          "output_type": "display_data",
          "data": {
            "text/html": [
              "<div>\n",
              "<style scoped>\n",
              "    .dataframe tbody tr th:only-of-type {\n",
              "        vertical-align: middle;\n",
              "    }\n",
              "\n",
              "    .dataframe tbody tr th {\n",
              "        vertical-align: top;\n",
              "    }\n",
              "\n",
              "    .dataframe thead th {\n",
              "        text-align: right;\n",
              "    }\n",
              "</style>\n",
              "<table border=\"1\" class=\"dataframe\">\n",
              "  <thead>\n",
              "    <tr style=\"text-align: right;\">\n",
              "      <th></th>\n",
              "      <th>given_name</th>\n",
              "      <th>surname</th>\n",
              "      <th>street_number</th>\n",
              "      <th>address_1</th>\n",
              "      <th>address_2</th>\n",
              "      <th>suburb</th>\n",
              "      <th>postcode</th>\n",
              "      <th>state</th>\n",
              "      <th>date_of_birth</th>\n",
              "      <th>soc_sec_id</th>\n",
              "    </tr>\n",
              "  </thead>\n",
              "  <tbody>\n",
              "    <tr>\n",
              "      <th>rec-1410-org</th>\n",
              "      <td>kyle</td>\n",
              "      <td>colantuono</td>\n",
              "      <td>8</td>\n",
              "      <td>moynihan street</td>\n",
              "      <td>cosy corner</td>\n",
              "      <td>lennox head</td>\n",
              "      <td>6081</td>\n",
              "      <td>vic</td>\n",
              "      <td>19960130</td>\n",
              "      <td>1684057</td>\n",
              "    </tr>\n",
              "    <tr>\n",
              "      <th>rec-1410-dup-0</th>\n",
              "      <td>kyle</td>\n",
              "      <td>faull</td>\n",
              "      <td>38</td>\n",
              "      <td>moynihan street</td>\n",
              "      <td>cosy corner</td>\n",
              "      <td>lennox head</td>\n",
              "      <td>6081</td>\n",
              "      <td>vic</td>\n",
              "      <td>19960130</td>\n",
              "      <td>1684057</td>\n",
              "    </tr>\n",
              "  </tbody>\n",
              "</table>\n",
              "</div>"
            ],
            "text/plain": [
              "               given_name     surname  ... date_of_birth soc_sec_id\n",
              "rec-1410-org         kyle  colantuono  ...      19960130    1684057\n",
              "rec-1410-dup-0       kyle       faull  ...      19960130    1684057\n",
              "\n",
              "[2 rows x 10 columns]"
            ]
          },
          "metadata": {
            "tags": []
          }
        },
        {
          "output_type": "stream",
          "text": [
            "Enter label (True/False) :True\n"
          ],
          "name": "stdout"
        },
        {
          "output_type": "display_data",
          "data": {
            "text/html": [
              "<div>\n",
              "<style scoped>\n",
              "    .dataframe tbody tr th:only-of-type {\n",
              "        vertical-align: middle;\n",
              "    }\n",
              "\n",
              "    .dataframe tbody tr th {\n",
              "        vertical-align: top;\n",
              "    }\n",
              "\n",
              "    .dataframe thead th {\n",
              "        text-align: right;\n",
              "    }\n",
              "</style>\n",
              "<table border=\"1\" class=\"dataframe\">\n",
              "  <thead>\n",
              "    <tr style=\"text-align: right;\">\n",
              "      <th></th>\n",
              "      <th>given_name</th>\n",
              "      <th>surname</th>\n",
              "      <th>street_number</th>\n",
              "      <th>address_1</th>\n",
              "      <th>address_2</th>\n",
              "      <th>suburb</th>\n",
              "      <th>postcode</th>\n",
              "      <th>state</th>\n",
              "      <th>date_of_birth</th>\n",
              "      <th>soc_sec_id</th>\n",
              "    </tr>\n",
              "  </thead>\n",
              "  <tbody>\n",
              "    <tr>\n",
              "      <th>rec-1708-org</th>\n",
              "      <td>taliah</td>\n",
              "      <td>mccarthy</td>\n",
              "      <td>NaN</td>\n",
              "      <td>bourne street</td>\n",
              "      <td>locn 3439</td>\n",
              "      <td>greenacre</td>\n",
              "      <td>3198</td>\n",
              "      <td>nsw</td>\n",
              "      <td>19730822</td>\n",
              "      <td>7901066</td>\n",
              "    </tr>\n",
              "    <tr>\n",
              "      <th>rec-1708-dup-0</th>\n",
              "      <td>talia</td>\n",
              "      <td>mccarhy</td>\n",
              "      <td>NaN</td>\n",
              "      <td>bournestmreet</td>\n",
              "      <td>locn 3439</td>\n",
              "      <td>deer park</td>\n",
              "      <td>3198</td>\n",
              "      <td>nsw</td>\n",
              "      <td>19730822</td>\n",
              "      <td>7901066</td>\n",
              "    </tr>\n",
              "  </tbody>\n",
              "</table>\n",
              "</div>"
            ],
            "text/plain": [
              "               given_name   surname  ... date_of_birth soc_sec_id\n",
              "rec-1708-org       taliah  mccarthy  ...      19730822    7901066\n",
              "rec-1708-dup-0      talia   mccarhy  ...      19730822    7901066\n",
              "\n",
              "[2 rows x 10 columns]"
            ]
          },
          "metadata": {
            "tags": []
          }
        },
        {
          "output_type": "stream",
          "text": [
            "Enter label (True/False) :True\n"
          ],
          "name": "stdout"
        },
        {
          "output_type": "display_data",
          "data": {
            "text/html": [
              "<div>\n",
              "<style scoped>\n",
              "    .dataframe tbody tr th:only-of-type {\n",
              "        vertical-align: middle;\n",
              "    }\n",
              "\n",
              "    .dataframe tbody tr th {\n",
              "        vertical-align: top;\n",
              "    }\n",
              "\n",
              "    .dataframe thead th {\n",
              "        text-align: right;\n",
              "    }\n",
              "</style>\n",
              "<table border=\"1\" class=\"dataframe\">\n",
              "  <thead>\n",
              "    <tr style=\"text-align: right;\">\n",
              "      <th></th>\n",
              "      <th>given_name</th>\n",
              "      <th>surname</th>\n",
              "      <th>street_number</th>\n",
              "      <th>address_1</th>\n",
              "      <th>address_2</th>\n",
              "      <th>suburb</th>\n",
              "      <th>postcode</th>\n",
              "      <th>state</th>\n",
              "      <th>date_of_birth</th>\n",
              "      <th>soc_sec_id</th>\n",
              "    </tr>\n",
              "  </thead>\n",
              "  <tbody>\n",
              "    <tr>\n",
              "      <th>rec-4270-org</th>\n",
              "      <td>bethany</td>\n",
              "      <td>finlay</td>\n",
              "      <td>353</td>\n",
              "      <td>capella crescent</td>\n",
              "      <td>haigh park</td>\n",
              "      <td>broken hill</td>\n",
              "      <td>2111</td>\n",
              "      <td>vic</td>\n",
              "      <td>19660601</td>\n",
              "      <td>3594609</td>\n",
              "    </tr>\n",
              "    <tr>\n",
              "      <th>rec-4270-dup-0</th>\n",
              "      <td>finlay</td>\n",
              "      <td>beghany</td>\n",
              "      <td>353</td>\n",
              "      <td>haighpark</td>\n",
              "      <td>capella crescent</td>\n",
              "      <td>broken hill</td>\n",
              "      <td>2111</td>\n",
              "      <td>vic</td>\n",
              "      <td>19660601</td>\n",
              "      <td>3594609</td>\n",
              "    </tr>\n",
              "  </tbody>\n",
              "</table>\n",
              "</div>"
            ],
            "text/plain": [
              "               given_name  surname street_number  ... state date_of_birth soc_sec_id\n",
              "rec-4270-org      bethany   finlay           353  ...   vic      19660601    3594609\n",
              "rec-4270-dup-0     finlay  beghany           353  ...   vic      19660601    3594609\n",
              "\n",
              "[2 rows x 10 columns]"
            ]
          },
          "metadata": {
            "tags": []
          }
        },
        {
          "output_type": "stream",
          "text": [
            "Enter label (True/False) :True\n"
          ],
          "name": "stdout"
        },
        {
          "output_type": "display_data",
          "data": {
            "text/html": [
              "<div>\n",
              "<style scoped>\n",
              "    .dataframe tbody tr th:only-of-type {\n",
              "        vertical-align: middle;\n",
              "    }\n",
              "\n",
              "    .dataframe tbody tr th {\n",
              "        vertical-align: top;\n",
              "    }\n",
              "\n",
              "    .dataframe thead th {\n",
              "        text-align: right;\n",
              "    }\n",
              "</style>\n",
              "<table border=\"1\" class=\"dataframe\">\n",
              "  <thead>\n",
              "    <tr style=\"text-align: right;\">\n",
              "      <th></th>\n",
              "      <th>given_name</th>\n",
              "      <th>surname</th>\n",
              "      <th>street_number</th>\n",
              "      <th>address_1</th>\n",
              "      <th>address_2</th>\n",
              "      <th>suburb</th>\n",
              "      <th>postcode</th>\n",
              "      <th>state</th>\n",
              "      <th>date_of_birth</th>\n",
              "      <th>soc_sec_id</th>\n",
              "    </tr>\n",
              "  </thead>\n",
              "  <tbody>\n",
              "    <tr>\n",
              "      <th>rec-3618-org</th>\n",
              "      <td>erin</td>\n",
              "      <td>hearn</td>\n",
              "      <td>NaN</td>\n",
              "      <td>port jackson circuit</td>\n",
              "      <td>gowan</td>\n",
              "      <td>elwood</td>\n",
              "      <td>2605</td>\n",
              "      <td>nt</td>\n",
              "      <td>19101004</td>\n",
              "      <td>5064504</td>\n",
              "    </tr>\n",
              "    <tr>\n",
              "      <th>rec-3618-dup-0</th>\n",
              "      <td>erin</td>\n",
              "      <td>hearn</td>\n",
              "      <td>NaN</td>\n",
              "      <td>port jackson circuit</td>\n",
              "      <td>gowan</td>\n",
              "      <td>preston</td>\n",
              "      <td>2605</td>\n",
              "      <td>nt</td>\n",
              "      <td>19101004</td>\n",
              "      <td>5064504</td>\n",
              "    </tr>\n",
              "  </tbody>\n",
              "</table>\n",
              "</div>"
            ],
            "text/plain": [
              "               given_name surname street_number  ... state date_of_birth soc_sec_id\n",
              "rec-3618-org         erin   hearn           NaN  ...    nt      19101004    5064504\n",
              "rec-3618-dup-0       erin   hearn           NaN  ...    nt      19101004    5064504\n",
              "\n",
              "[2 rows x 10 columns]"
            ]
          },
          "metadata": {
            "tags": []
          }
        },
        {
          "output_type": "stream",
          "text": [
            "Enter label (True/False) :True\n",
            "all data labeled\n"
          ],
          "name": "stdout"
        }
      ]
    },
    {
      "cell_type": "code",
      "metadata": {
        "id": "7knsdGBKmPej"
      },
      "source": [
        ""
      ],
      "execution_count": 17,
      "outputs": []
    }
  ]
}